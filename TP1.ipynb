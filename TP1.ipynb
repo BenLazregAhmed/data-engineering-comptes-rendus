{
 "cells": [
  {
   "cell_type": "markdown",
   "metadata": {
    "id": "t2VsodIiPygm"
   },
   "source": [
    "# 1.Initiation rapide à google Colab et Python  (Strings et fonction Lambda)\n"
   ]
  },
  {
   "cell_type": "markdown",
   "metadata": {
    "id": "J8pUIkcsQNNa"
   },
   "source": [
    "## 1.1 C'est quoi Google Colab ?\n",
    "Google Colaboratory ou Colab est un des services cloud de Google Research. Il permet à quiconque d'écrire et d'exécuter du code Python  via le navigateur, et est particulièrement bien adapté à l'apprentissage automatique et à l'analyse de données. Plus techniquement, Colab est un service de bloc-notes Jupyter hébergé qui ne nécessite aucune configuration pour être utilisé, tout en offrant un accès gratuit aux ressources informatiques, y compris les GPU."
   ]
  },
  {
   "cell_type": "markdown",
   "metadata": {
    "id": "1bDPMkbgR5iL"
   },
   "source": [
    "### Bases de Jupyter notebook\n",
    "\n",
    "Dans Jupyter notebook il y a des cellueles de codes et des cellules de texte.\n",
    "Il est possible d'utiliser également le shell.\n"
   ]
  },
  {
   "cell_type": "markdown",
   "metadata": {
    "id": "mR4K4aQdV5Tn"
   },
   "source": [
    "**Cellule de code**"
   ]
  },
  {
   "cell_type": "code",
   "execution_count": 1,
   "metadata": {
    "colab": {
     "base_uri": "https://localhost:8080/"
    },
    "id": "ddwT9NuGV0Ve",
    "outputId": "dfedcdc7-dc2b-49fd-cf4d-212472af2234"
   },
   "outputs": [
    {
     "data": {
      "text/plain": [
       "6"
      ]
     },
     "execution_count": 1,
     "metadata": {},
     "output_type": "execute_result"
    }
   ],
   "source": [
    "2*3"
   ]
  },
  {
   "cell_type": "markdown",
   "metadata": {
    "id": "hA4L1x0yWCQ6"
   },
   "source": [
    "**Cellule de texte**\n",
    "\n",
    "\n",
    "\n",
    "\n",
    "\n",
    "\n",
    "\n"
   ]
  },
  {
   "cell_type": "markdown",
   "metadata": {
    "id": "eOHY_W9aWOdY"
   },
   "source": [
    "Cecci est une cellule texte."
   ]
  },
  {
   "cell_type": "markdown",
   "metadata": {
    "id": "RXDNUpy1WkkX"
   },
   "source": [
    "**Accès au shell**"
   ]
  },
  {
   "cell_type": "code",
   "execution_count": 2,
   "metadata": {
    "colab": {
     "base_uri": "https://localhost:8080/"
    },
    "id": "kIDV2743R46A",
    "outputId": "a9abecba-b0c0-4425-b339-d06d9209856d"
   },
   "outputs": [
    {
     "name": "stdout",
     "output_type": "stream",
     "text": [
      "/home/jupyter/asma\n"
     ]
    }
   ],
   "source": [
    "!pwd\n"
   ]
  },
  {
   "cell_type": "markdown",
   "metadata": {
    "id": "o6-Ik8l_PaWY"
   },
   "source": [
    "##1.2 String — Opérations usuelles sur des chaînes\n",
    "Sous Python, les chaînes de caractères sont des objets. On peut donc effectuer de nombreux traitements dessus en utilisant des méthodes appropriées. En voici quelques-unes, choisies parmi les plus utiles.\n",
    "Mais vous pouvez obtenir la liste complète de toutes les méthodes associées à un objet à l’aide de la fonction intégrée dir(str) ou help(str).\n",
    "Il existe de nombreuses méthodes (sortes de fonctions préfixées par l’objet ici la chaîne) sur le traitement des chaînes.Les méthodes suivantes sont applicables sur des objets Python de type str : capitalize(), casefold(), center(), count(), encode(), endswith(), expandtabs(), find(), format(), format_map(), index(), isalnum(), isalpha(), isascii(), isdecimal(), isdigit(), isidentifier(), islower(), isnumeric(), isprintable(), isspace(), istitle(), isupper(), join(), ljust(), lower(), lstrip(), maketrans(), partition(), replace(), rfind(), rindex(), rjust(), rpartition(), rsplit(), rstrip(), split(), splitlines(), startswith(), strip(), swapcase(), title(), translate(), upper(), zfill().\n"
   ]
  },
  {
   "cell_type": "code",
   "execution_count": null,
   "metadata": {
    "id": "O-qR6XAePYUd"
   },
   "outputs": [],
   "source": [
    "dir(str)"
   ]
  },
  {
   "cell_type": "markdown",
   "metadata": {
    "id": "b4qFxL6cVLVH"
   },
   "source": [
    "### Quelques méthodes\n"
   ]
  },
  {
   "cell_type": "markdown",
   "metadata": {
    "id": "-ZTlDouRVXqM"
   },
   "source": [
    "#### Les méthodes .lower() et .upper()\n",
    "\n",
    "Les méthodes .lower() et .upper() renvoient un texte en minuscule et en majuscule respectivement. On remarque que l’utilisation de ces fonctions n’altère pas la chaîne de caractères de départ mais renvoie une chaîne de caractères transformée.\n",
    "Pour mettre en majuscule la première lettre seulement, vous pouvez faire :"
   ]
  },
  {
   "cell_type": "code",
   "execution_count": 1,
   "metadata": {
    "colab": {
     "base_uri": "https://localhost:8080/"
    },
    "id": "55Y7A28VVd5W",
    "outputId": "97c0bb94-b736-41dc-b612-b1529b1b0b5f"
   },
   "outputs": [
    {
     "name": "stdout",
     "output_type": "stream",
     "text": [
      "Girafe\n",
      "Girafe\n",
      "GIRAFE\n",
      "girafe\n"
     ]
    }
   ],
   "source": [
    "x='girafe'\n",
    "print(x [0]. upper () + x [1:])\n",
    "#'Girafe '\n",
    "#ou encore plus simple avec la méthode adéquate\n",
    "print(x. capitalize())\n",
    "#'Girafe'\n",
    "#pour mettre en MAJ toute la chaine\n",
    "print(x. upper())\n",
    "#pour mettre en MIN toute la chaine\n",
    "print(x. lower())"
   ]
  },
  {
   "cell_type": "markdown",
   "metadata": {
    "id": "EeYqTj2FRYg7"
   },
   "source": [
    "#### Application: \n",
    "Ecrire votre nom en Majuscule et votre prénom en minuscule avec la première lettre en majuscule."
   ]
  },
  {
   "cell_type": "code",
   "execution_count": 1,
   "metadata": {
    "id": "Lo176UJogyYY"
   },
   "outputs": [
    {
     "name": "stdout",
     "output_type": "stream",
     "text": [
      "Ahmed\n",
      "Benlazreg\n"
     ]
    }
   ],
   "source": [
    "nom='ahmed'\n",
    "prenom='benlazreg'\n",
    "print(nom.capitalize())\n",
    "print(prenom[0].upper()+prenom[1:])"
   ]
  },
  {
   "cell_type": "markdown",
   "metadata": {
    "id": "tmCAMWBdWutr"
   },
   "source": [
    "#### La méthode .split()\n",
    "\n",
    "La méthode .split() découpe une chaîne de caractères en plusieurs éléments appelés champs, en utilisant comme séparateur n’importe quelle combinaison « d’espace(s) blanc(s) ».\n"
   ]
  },
  {
   "cell_type": "code",
   "execution_count": null,
   "metadata": {
    "colab": {
     "base_uri": "https://localhost:8080/"
    },
    "id": "Foecp_gVW5M9",
    "outputId": "f7022031-c89a-49ef-a760-dfb403aa7825"
   },
   "outputs": [
    {
     "name": "stdout",
     "output_type": "stream",
     "text": [
      "girafe\n",
      "tigre\n",
      "singe\n",
      "souris\n"
     ]
    }
   ],
   "source": [
    "animaux = \"girafe tigre singe souris\"\n",
    "animaux . split () \n",
    "#['girafe ', 'tigre ', 'singe ', 'souris ']\n",
    "for animal in animaux.split ():\n",
    "  print ( animal )"
   ]
  },
  {
   "cell_type": "code",
   "execution_count": 2,
   "metadata": {},
   "outputs": [
    {
     "data": {
      "text/plain": [
       "'tigre'"
      ]
     },
     "execution_count": 2,
     "metadata": {},
     "output_type": "execute_result"
    }
   ],
   "source": [
    "animaux = \"girafe tigre singe souris\"\n",
    "animaux . split () [1]\n",
    "#['girafe ', 'tigre ', 'singe ', 'souris ']"
   ]
  },
  {
   "cell_type": "markdown",
   "metadata": {
    "id": "dkFZtPOzW-5p"
   },
   "source": [
    "Il est possible de modifier le séparateur de champs, par exemple :\n"
   ]
  },
  {
   "cell_type": "code",
   "execution_count": 3,
   "metadata": {
    "colab": {
     "base_uri": "https://localhost:8080/"
    },
    "id": "4qYQc49WXG4w",
    "outputId": "ebd8ac82-57c3-4b5c-ec6c-7ad521bec7c9"
   },
   "outputs": [
    {
     "data": {
      "text/plain": [
       "[' girafe ', ' tigre ', ' singe ', '', ' souris ']"
      ]
     },
     "execution_count": 3,
     "metadata": {},
     "output_type": "execute_result"
    }
   ],
   "source": [
    "animaux = \" girafe : tigre : singe :: souris \"\n",
    "animaux . split (\":\")\n",
    "#['girafe ', 'tigre ', 'singe ', '', 'souris ']\n"
   ]
  },
  {
   "cell_type": "markdown",
   "metadata": {
    "id": "96OKr2d6XFt5"
   },
   "source": [
    "Attention, dans cet exemple, le séparateur est un seul caractères : (et non pas une combinaison de un ou plusieurs \":)\" menant ainsi à une chaîne vide entre singe et souris.\n",
    "Il est également intéressant d’indiquer à .split() le nombre de fois qu’on souhaite découper la chaîne de caractères avec l’argument maxsplit() :\n"
   ]
  },
  {
   "cell_type": "code",
   "execution_count": 5,
   "metadata": {
    "colab": {
     "base_uri": "https://localhost:8080/"
    },
    "id": "Sr5togOSYfBW",
    "outputId": "ddfc1f93-cef4-4687-dc94-8e09e25a9795"
   },
   "outputs": [
    {
     "data": {
      "text/plain": [
       "['girafe', 'tigre singe souris ']"
      ]
     },
     "execution_count": 5,
     "metadata": {},
     "output_type": "execute_result"
    }
   ],
   "source": [
    "animaux = \" girafe tigre singe souris \"\n",
    "animaux . split ( maxsplit =2)\n",
    "#['girafe ', 'tigre singe souris ']\n",
    "#animaux . split ( maxsplit =2)\n",
    "#['girafe ', 'tigre ', 'singe souris ']"
   ]
  },
  {
   "cell_type": "markdown",
   "metadata": {
    "id": "LMZsQMPkZVYf"
   },
   "source": [
    "### La méthode .find()\n",
    "\n",
    "La méthode .find(), quant à elle, recherche une chaîne de caractères passée en argument :\n"
   ]
  },
  {
   "cell_type": "code",
   "execution_count": null,
   "metadata": {
    "colab": {
     "base_uri": "https://localhost:8080/"
    },
    "id": "_-kNR2bgZfb3",
    "outputId": "495ccf32-4d2f-4858-d1fa-8c289535bf88"
   },
   "outputs": [
    {
     "name": "stdout",
     "output_type": "stream",
     "text": [
      "1\n",
      "3\n",
      "-1\n",
      "-1\n"
     ]
    }
   ],
   "source": [
    "animal = \"girafe\"\n",
    "print(animal . find (\"i\"))\n",
    "#1\n",
    "print(animal . find (\"afe\"))\n",
    "#3\n",
    "print(animal . find (\"z\"))\n",
    "#-1\n",
    "print(animal . find (\"tig\"))\n",
    "#-1"
   ]
  },
  {
   "cell_type": "markdown",
   "metadata": {
    "id": "-_QKFYPQaDhZ"
   },
   "source": [
    "#### La méthode .replace()\n",
    "\n",
    "On trouve aussi la méthode .replace() qui substitue une chaîne de caractères par une autre :"
   ]
  },
  {
   "cell_type": "code",
   "execution_count": null,
   "metadata": {
    "colab": {
     "base_uri": "https://localhost:8080/"
    },
    "id": "fRKygFN7aBKh",
    "outputId": "8809955a-0550-48a7-d965-1aeea86eca81"
   },
   "outputs": [
    {
     "name": "stdout",
     "output_type": "stream",
     "text": [
      "singe girafe singe\n",
      "togre gorafe togre\n"
     ]
    }
   ],
   "source": [
    "animaux = \"tigre girafe tigre\"\n",
    "print(animaux.replace(\"tigre\", \"singe\"))\n",
    "#'singe girafe singe '\n",
    "print(animaux . replace (\"i\", \"o\"))\n",
    "#'gorafe togre '"
   ]
  },
  {
   "cell_type": "markdown",
   "metadata": {
    "id": "ZWGkAkGvbkhA"
   },
   "source": [
    "#### La méthode .count()\n",
    "\n",
    "La méthode .count() compte le nombre d’occurrences d’une chaîne de caractères passée en argument :"
   ]
  },
  {
   "cell_type": "code",
   "execution_count": null,
   "metadata": {
    "colab": {
     "base_uri": "https://localhost:8080/"
    },
    "id": "Op_cR3_HcERk",
    "outputId": "c9155e3c-bb04-4fb5-ae39-337930003d96"
   },
   "outputs": [
    {
     "name": "stdout",
     "output_type": "stream",
     "text": [
      "2\n",
      "0\n",
      "1\n"
     ]
    }
   ],
   "source": [
    "animaux = \"girafe tigre\"\n",
    "print(animaux . count (\"i\"))\n",
    "# 2\n",
    "print(animaux . count (\"z\"))\n",
    "#0\n",
    "print (animaux . count (\"tigre\"))\n",
    "#1"
   ]
  },
  {
   "cell_type": "markdown",
   "metadata": {
    "id": "m_xjIlItbvYr"
   },
   "source": [
    "#### La méthode .startswith()\n",
    "La méthode .startswith() vérifie si une chaîne de caractères commence par une autre chaîne de caractères :"
   ]
  },
  {
   "cell_type": "code",
   "execution_count": null,
   "metadata": {
    "colab": {
     "base_uri": "https://localhost:8080/"
    },
    "id": "zqh_mX4LcWW1",
    "outputId": "0f227536-0833-484b-8551-ddef86e72b6e"
   },
   "outputs": [
    {
     "data": {
      "text/plain": [
       "False"
      ]
     },
     "execution_count": 20,
     "metadata": {},
     "output_type": "execute_result"
    }
   ],
   "source": [
    "chaine = \"Bonjour monsieur le capitaine !\"\n",
    "chaine . startswith (\"Bonjour\")\n",
    "#True\n",
    "chaine . startswith (\"Au revoir\")\n",
    "#False"
   ]
  },
  {
   "cell_type": "markdown",
   "metadata": {
    "id": "E3ztws_Lb-0d"
   },
   "source": [
    "Cette méthode est particulièrement utile lorsqu’on lit un fichier et que l’on veut récupérer certaines lignes commençant par un mot-clé. Par exemple dans un fichier PDB, les lignes contenant les coordonnées des atomes commencent par le mot-clé ATOM.\n"
   ]
  },
  {
   "cell_type": "markdown",
   "metadata": {
    "id": "qQShwFLgc-Zy"
   },
   "source": [
    "#### La méthode .strip([chars])\n",
    "La méthode .strip() permet de “nettoyer les bords” d’une chaîne de caractères. C'est l'équivalent de trim() dans Java :\n",
    "]Elleip() renvoie une copie de la chaîne d'origine avec les espaces blancs (ou les caractères spécifiés) supprimés au début et à la fin de la chaîne.\n",
    "\n",
    "Paramètres :\n",
    "\n",
    "chars (optionnel) : Une chaîne de caractères spécifiant les caractères à supprimer. Si ce paramètre n'est pas fourni, strip() supprimera les espaces blancs (espaces, tabulations, retours à la ligne, etc.).\n",
    "Retourne :\n",
    "\n",
    "Une nouvelle chaîne de caractères avec les caractères spécifiés supprimés au début et à la fin.\n"
   ]
  },
  {
   "cell_type": "markdown",
   "metadata": {},
   "source": [
    "##### Utilisation sans argument "
   ]
  },
  {
   "cell_type": "code",
   "execution_count": 3,
   "metadata": {
    "colab": {
     "base_uri": "https://localhost:8080/",
     "height": 36
    },
    "id": "H3beZbI5c3W_",
    "outputId": "66b635ff-6398-4b5e-9cbf-91c12f647e66"
   },
   "outputs": [
    {
     "data": {
      "text/plain": [
       "'Comment enlever les espaces au dé but et à la fin ?'"
      ]
     },
     "execution_count": 3,
     "metadata": {},
     "output_type": "execute_result"
    }
   ],
   "source": [
    "chaine = \"     Comment enlever les espaces au dé but et à la fin ?     \"\n",
    "chaine.strip()\n",
    "#'Comment enlever les espaces au dé but et à la fin ?'\n"
   ]
  },
  {
   "cell_type": "markdown",
   "metadata": {
    "id": "YZkKH6-OdPUU"
   },
   "source": [
    "##### Utilisation avec des caractères spécifiés"
   ]
  },
  {
   "cell_type": "code",
   "execution_count": 7,
   "metadata": {
    "colab": {
     "base_uri": "https://localhost:8080/",
     "height": 36
    },
    "id": "EHeLT25KdVQR",
    "outputId": "ddab6e2a-ae5c-4878-9e91-a5c637ca7435"
   },
   "outputs": [
    {
     "name": "stdout",
     "output_type": "stream",
     "text": [
      "        ***Bonjour, monde!\n"
     ]
    }
   ],
   "source": [
    "texte = \"        ***Bonjour, monde!***\"\n",
    "resultat = texte.strip('*')\n",
    "print(resultat)  # \"Bonjour, monde!\""
   ]
  },
  {
   "cell_type": "markdown",
   "metadata": {},
   "source": [
    "##### Suppression de plusieurs types de caractères :"
   ]
  },
  {
   "cell_type": "code",
   "execution_count": 6,
   "metadata": {},
   "outputs": [
    {
     "name": "stdout",
     "output_type": "stream",
     "text": [
      "Bonjour, monde\n"
     ]
    }
   ],
   "source": [
    "texte = \"      !!!Bonjour, monde!!!\"\n",
    "resultat = texte.strip('! ')\n",
    "print(resultat)  # \"Bonjour, monde\"\n"
   ]
  },
  {
   "cell_type": "markdown",
   "metadata": {},
   "source": [
    "#### La méthode .lstrip([chars])\n",
    "\n",
    "Pour supprimer uniquement les caractères au début de la chaîne, vous pouvez utiliser lstrip()"
   ]
  },
  {
   "cell_type": "code",
   "execution_count": 13,
   "metadata": {},
   "outputs": [
    {
     "name": "stdout",
     "output_type": "stream",
     "text": [
      "Bonjour, monde!!!\n"
     ]
    }
   ],
   "source": [
    "texte = \"!!!Bonjour, monde!!!\"\n",
    "resultat = texte.lstrip('! ')\n",
    "print(resultat)  # \"Bonjour, monde\""
   ]
  },
  {
   "cell_type": "markdown",
   "metadata": {},
   "source": [
    "#### La méthode .rstrip([chars])\n",
    "\n",
    "Pour supprimer uniquement les caractères à la fin, vous pouvez utiliser rstrip()"
   ]
  },
  {
   "cell_type": "code",
   "execution_count": 15,
   "metadata": {},
   "outputs": [
    {
     "name": "stdout",
     "output_type": "stream",
     "text": [
      "!!!Bonjour, monde\n"
     ]
    }
   ],
   "source": [
    "texte = \"!!!Bonjour, monde!!!\"\n",
    "resultat = texte.rstrip('! ')\n",
    "print(resultat)  # \"Bonjour, monde\""
   ]
  },
  {
   "cell_type": "markdown",
   "metadata": {
    "id": "Qznh-v_3pRdB"
   },
   "source": [
    "#### Application:\n",
    "\n",
    "On considère la chaîne de caractères val :val = \"3.4 17.2 atom \"\n",
    "On souhaite extraire les valeurs 3.4 et 17.2 pour ensuite les additionner.\n",
    "####Solution:"
   ]
  },
  {
   "cell_type": "code",
   "execution_count": 7,
   "metadata": {
    "id": "hv_IzxtKp1D_"
   },
   "outputs": [
    {
     "name": "stdout",
     "output_type": "stream",
     "text": [
      "20.599999999999998\n"
     ]
    }
   ],
   "source": [
    "val = \"3.4 17.2 atom \" \n",
    "splitted = val.split()\n",
    "a=float(splitted[0])\n",
    "b=float(splitted[1])\n",
    "result = a+b\n",
    "print(result)"
   ]
  },
  {
   "cell_type": "markdown",
   "metadata": {},
   "source": [
    "### Les expression régulières : Le module re\n",
    "https://docs.python.org/3/library/re.html\n",
    "\n",
    "Les expressions régulières (notées RE ou motifs regex dans ce document) sont essentiellement un petit langage de programmation hautement spécialisé embarqué dans Python et dont la manipulation est rendue possible par l'utilisation du module re. En utilisant ce petit langage, vous définissez des règles pour spécifier une correspondance avec un ensemble souhaité de chaînes de caractères ; ces chaînes peuvent être des phrases, des adresses de courriel, des commandes TeX ou tout ce que vous voulez. Vous pouvez ensuite poser des questions telles que « Est-ce que cette chaîne de caractères correspond au motif ? » ou « Y a-t-il une correspondance pour ce motif à l'intérieur de la chaîne de caractères ? ». Vous pouvez aussi utiliser les RE pour modifier une chaîne de caractères ou la découper de différentes façons."
   ]
  },
  {
   "cell_type": "markdown",
   "metadata": {},
   "source": [
    "#### Regex functions\n",
    "Les fonctions regex du module re sont:\n",
    "\n",
    "findall()\tReturn a list of matches or None\n",
    "\n",
    "finditer()\tReturn an iterator yielding all non-overlapping matche\n",
    "s\n",
    "search()\tReturn the first mat\n",
    "ch\n",
    "fullmatch()\tReturn a Match object if the whole string matches a patt\n",
    "ern\n",
    "match()\tReturn the match at the beginning of a string or \n",
    "None\n",
    "sub()\tReturn a string with matched replaced with a replac\n",
    "ement\n",
    "split()\tSplit a string at the occurrences of m\n",
    "atchesof matchesmatches"
   ]
  },
  {
   "cell_type": "code",
   "execution_count": 8,
   "metadata": {},
   "outputs": [
    {
     "name": "stdout",
     "output_type": "stream",
     "text": [
      "['A', 'B', 'C', 'D']\n"
     ]
    }
   ],
   "source": [
    "import re\n",
    "\n",
    "s = 'A! B. C D'\n",
    "pattern = r'\\W+'\n",
    "l = re.split(pattern, s)\n",
    "print(l)"
   ]
  },
  {
   "cell_type": "code",
   "execution_count": 2,
   "metadata": {},
   "outputs": [
    {
     "name": "stdout",
     "output_type": "stream",
     "text": [
      "['A', '! ', 'B', '. ', 'C D']\n"
     ]
    }
   ],
   "source": [
    "import re\n",
    "\n",
    "s = 'A! B. C D'\n",
    "pattern = r'(\\W+)'\n",
    "l = re.split(pattern, s, 2)\n",
    "print(l)"
   ]
  },
  {
   "cell_type": "code",
   "execution_count": 3,
   "metadata": {},
   "outputs": [
    {
     "name": "stdout",
     "output_type": "stream",
     "text": [
      "['PYnative', 'dot', 'com', 'is', 'for', 'Python', 'developer', '']\n"
     ]
    }
   ],
   "source": [
    "import re\n",
    "\n",
    "target_string = \"PYnative! dot.com; is for, Python-developer?\"\n",
    "result = re.split(r\"[\\b\\W\\b]+\", target_string)\n",
    "print(result)\n",
    "# Output ['PYnative', 'dot', 'com', 'is', 'for', 'Python', 'developer', '']"
   ]
  },
  {
   "cell_type": "markdown",
   "metadata": {
    "id": "2p_Y960m0fgs"
   },
   "source": [
    "## 1.3 Prérequis: Les fonctions Lambda:\n"
   ]
  },
  {
   "cell_type": "markdown",
   "metadata": {
    "id": "rwiAmdDv1t5y"
   },
   "source": [
    "## Qu’est-ce la fonction Lambda en Python ?\n",
    "La fonction lambda est une petite fonction contenant qu’une seule expression. Elle peut agir sous anonymat parce qu’elle ne nécessite aucun nom. Elles sont très utiles lorsqu’il faut effectuer des petites tâches avec moins de code. Ce qui est très pratique lorsqu’on élabore des solutions Big Data.\n",
    "\n",
    "On retrouve les fonctions lambda dans plusieurs langages de programmation. Elles sont très pratiques, mais dans cet article, nous nous concentrons ici sur leur utilisation en Python. Voici la syntaxe de la fonction lambda en Python :\n",
    "\n",
    "<img src=\"https://www.data-transitionnumerique.com/wp-content/uploads/2021/10/lambda-function.webp\" width=\"20%\" align=\"right\">\n",
    "\n",
    "La fonction lambda a trois différentes parties :\n",
    "*   Mot-clé\n",
    "*   Variable/argument lié\n",
    "*   Corps ou expression\n",
    "\n",
    "Le mot-clé est obligatoire et ne peut être que “lambda”, mais les variables et les corps peuvent être changés en fonction des exigences.\n",
    "\n",
    "## Quelle est la différence entre les fonctions lambda et les fonctions régulières ?\n",
    "<img src=\"https://www.data-transitionnumerique.com/wp-content/uploads/2021/10/2-2.webp\" width=\"20%\" align=\"right\">\n",
    "\n",
    "Les fonctions lambda sont définies dans l’ensemble par le mot-clé lambda et elles peuvent comporter n’importe quel nombre d’argument mais une seule expression.\n",
    "\n",
    "Même sans aucune instruction, la fonction lambda renvoie un objet fonction qui peut être affecté à n’importe quelle autre variable.\n",
    "\n",
    "Quant aux fonctions régulières, elles sont créées avec le mot clé def. Le nombre d’argument et d’expression de ce dernières peuvent être un, deux, voire plus.\n",
    "\n",
    "Elles sont utilisées pour n’importe quelle instruction et sont généralement utilisées pour les gros blocs de code.\n",
    "\n"
   ]
  },
  {
   "cell_type": "code",
   "execution_count": null,
   "metadata": {
    "colab": {
     "base_uri": "https://localhost:8080/"
    },
    "id": "M3PkP1BK9dVR",
    "outputId": "13723835-681b-4034-945c-b50e75fadc3e"
   },
   "outputs": [
    {
     "name": "stdout",
     "output_type": "stream",
     "text": [
      "13\n"
     ]
    }
   ],
   "source": [
    "add3= lambda x:x+3\n",
    "print(add3(10))\n"
   ]
  },
  {
   "cell_type": "markdown",
   "metadata": {
    "id": "FSOEdEr-9x7p"
   },
   "source": [
    "C'est  équivalent à:"
   ]
  },
  {
   "cell_type": "code",
   "execution_count": null,
   "metadata": {
    "colab": {
     "base_uri": "https://localhost:8080/"
    },
    "id": "wOdTQgTk9vhK",
    "outputId": "83cc69ae-feb6-4aed-9c3d-f1810b8b363e"
   },
   "outputs": [
    {
     "name": "stdout",
     "output_type": "stream",
     "text": [
      "13\n"
     ]
    }
   ],
   "source": [
    "def add3(x):\n",
    "  return x+3\n",
    "print(add3(10))"
   ]
  },
  {
   "cell_type": "markdown",
   "metadata": {
    "id": "L5H0S8qc9TiT"
   },
   "source": [
    "## Pour quelle raison les fonctions lambda sont très utiles ?\n",
    "On ne voit l’utilité de la fonction lambda que lorsque l’on veut utiliser une fonction qui prend comme argument une autre fonction. Par exemple les fonctions map(), filter() …\n",
    "\n",
    "##Un exemple pratique de fonction lambda en Python\n",
    "Dans cet exemple, nous allons découvrir l’utilisation de la fonction python filter() avec la notation lambda. Mais avant de commencer, nous vous conseillons de lire notre tutoriel sur la programmation Python pour obtenir les bases nécessaires.\n",
    "\n",
    "La fonction filter() a pour premier argument une fonction et c’est la fonction lambda dans ce cas. Le deuxième argument est la liste à filtrer.\n"
   ]
  },
  {
   "cell_type": "code",
   "execution_count": 12,
   "metadata": {
    "colab": {
     "base_uri": "https://localhost:8080/"
    },
    "id": "CWZ6WlQqASkC",
    "outputId": "e0a182fb-2b07-4484-9122-643d91173833"
   },
   "outputs": [
    {
     "name": "stdout",
     "output_type": "stream",
     "text": [
      "[4, 6, 8, 12]\n",
      "<filter object at 0x7f7a0af38970>\n"
     ]
    }
   ],
   "source": [
    "my_list = [1, 5, 4, 6, 8, 11, 3, 12]\n",
    "filtered_list = filter(lambda x: (x%2 == 0) , my_list)\n",
    "new_list = list(filtered_list)\n",
    "#or in one line\n",
    "#new_list = list(filter(lambda x: (x%2 == 0) , my_list))\n",
    "\n",
    "print(new_list)\n",
    "print(filtered_list)"
   ]
  },
  {
   "cell_type": "code",
   "execution_count": null,
   "metadata": {
    "colab": {
     "base_uri": "https://localhost:8080/"
    },
    "id": "HOOelBH8CZCR",
    "outputId": "54f1aef4-60df-4573-a6ef-13ffba49975b"
   },
   "outputs": [
    {
     "name": "stdout",
     "output_type": "stream",
     "text": [
      "[2, 10, 8, 12, 16, 22, 6, 24]\n"
     ]
    }
   ],
   "source": [
    "my_list = [1, 5, 4, 6, 8, 11, 3, 12]\n",
    "\n",
    "new_list = list(map(lambda x: x * 2 , my_list))\n",
    "\n",
    "print(new_list)"
   ]
  },
  {
   "cell_type": "markdown",
   "metadata": {
    "id": "u16zitinDn3k"
   },
   "source": []
  },
  {
   "cell_type": "markdown",
   "metadata": {
    "id": "-zv4zrP_CjjA"
   },
   "source": [
    "## Application:\n",
    "Utiliser une fonction Lambda pour afficher le carré de la liste des nombres de 1 à 10."
   ]
  },
  {
   "cell_type": "code",
   "execution_count": 9,
   "metadata": {
    "id": "xCgr_rHEDUbX"
   },
   "outputs": [
    {
     "name": "stdout",
     "output_type": "stream",
     "text": [
      "[1, 4, 9, 16, 25, 36, 49, 64, 81, 100]\n"
     ]
    }
   ],
   "source": [
    "# votre réponse\n",
    "my_list = [1,2,3,4,5,6,7,8,9,10]\n",
    "new_list = list(map(lambda x: x * x , my_list))\n",
    "\n",
    "print(new_list)"
   ]
  },
  {
   "cell_type": "code",
   "execution_count": 13,
   "metadata": {},
   "outputs": [
    {
     "name": "stdout",
     "output_type": "stream",
     "text": [
      "['Les', ' ', 'expressions', ' ', 'régulières', ' (', 'notées', ' ', 'RE', ' ', 'ou', ' ', 'motifs', ' ', 'regex', ' ', 'dans', ' ', 'ce', ' ', 'document', ') ', 'sont', ' ', 'essentiellement', ' ', 'un', ' ', 'petit', ' ', 'langage', ' ', 'de', ' ', 'programmation', ' ', 'hautement', ' ', 'spécialisé', ' ', 'embarqué', ' ', 'dans', ' ', 'Python', ' ', 'et', ' ', 'dont', ' ', 'la', ' ', 'manipulation', ' ', 'est', ' ', 'rendue', ' ', 'possible', ' ', 'par', ' ', 'l', \"'\", 'utilisation', ' ', 'du', ' ', 'module', ' ', 're', '. ', 'En', ' ', 'utilisant', ' ', 'ce', ' ', 'petit', ' ', 'langage', ', ', 'vous', ' ', 'définissez', ' ', 'des', ' ', 'règles', ' ', 'pour', ' ', 'spécifier', ' ', 'une', ' ', 'correspondance', ' ', 'avec', ' ', 'un', ' ', 'ensemble', ' ', 'souhaité', ' ', 'de', ' ', 'chaînes', ' ', 'de', ' ', 'caractères', ' ; ', 'ces', ' ', 'chaînes', ' ', 'peuvent', ' ', 'être', ' ', 'des', ' ', 'phrases', ', ', 'des', ' ', 'adresses', ' ', 'de', ' ', 'courriel', ', ', 'des', ' ', 'commandes', ' ', 'TeX', ' ', 'ou', ' ', 'tout', ' ', 'ce', ' ', 'que', ' ', 'vous', ' ', 'voulez', '. ', 'Vous', ' ', 'pouvez', ' ', 'ensuite', ' ', 'poser', ' ', 'des', ' ', 'questions', ' ', 'telles', ' ', 'que', ' « ', 'Est', '-', 'ce', ' ', 'que', ' ', 'cette', ' ', 'chaîne', ' ', 'de', ' ', 'caractères', ' ', 'correspond', ' ', 'au', ' ', 'motif', ' ? » ', 'ou', ' « ', 'Y', ' ', 'a', '-', 't', '-', 'il', ' ', 'une', ' ', 'correspondance', ' ', 'pour', ' ', 'ce', ' ', 'motif', ' ', 'à', ' ', 'l', \"'\", 'intérieur', ' ', 'de', ' ', 'la', ' ', 'chaîne', ' ', 'de', ' ', 'caractères', ' ? ». ', 'Vous', ' ', 'pouvez', ' ', 'aussi', ' ', 'utiliser', ' ', 'les', ' ', 'RE', ' ', 'pour', ' ', 'modifier', ' ', 'une', ' ', 'chaîne', ' ', 'de', ' ', 'caractères', ' ', 'ou', ' ', 'la', ' ', 'découper', ' ', 'de', ' ', 'différentes', ' ', 'façons', '.', '']\n"
     ]
    }
   ],
   "source": [
    "pragraph = \"Les expressions régulières (notées RE ou motifs regex dans ce document) sont essentiellement un petit langage de programmation hautement spécialisé embarqué dans Python et dont la manipulation est rendue possible par l'utilisation du module re. En utilisant ce petit langage, vous définissez des règles pour spécifier une correspondance avec un ensemble souhaité de chaînes de caractères ; ces chaînes peuvent être des phrases, des adresses de courriel, des commandes TeX ou tout ce que vous voulez. Vous pouvez ensuite poser des questions telles que « Est-ce que cette chaîne de caractères correspond au motif ? » ou « Y a-t-il une correspondance pour ce motif à l'intérieur de la chaîne de caractères ? ». Vous pouvez aussi utiliser les RE pour modifier une chaîne de caractères ou la découper de différentes façons.\"\n",
    "result = re.split(r\"(\\W+)\", pragraph)\n",
    "print(result)"
   ]
  }
 ],
 "metadata": {
  "colab": {
   "collapsed_sections": [
    "QpG9PlWwmpVc"
   ],
   "provenance": []
  },
  "kernelspec": {
   "display_name": "Python 3 (ipykernel)",
   "language": "python",
   "name": "python3"
  },
  "language_info": {
   "codemirror_mode": {
    "name": "ipython",
    "version": 3
   },
   "file_extension": ".py",
   "mimetype": "text/x-python",
   "name": "python",
   "nbconvert_exporter": "python",
   "pygments_lexer": "ipython3",
   "version": "3.10.2"
  }
 },
 "nbformat": 4,
 "nbformat_minor": 4
}
