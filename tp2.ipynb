{
 "cells": [
  {
   "cell_type": "code",
   "execution_count": 1,
   "metadata": {
    "id": "L6DNgT1korAL"
   },
   "outputs": [],
   "source": [
    "#commencer ici avec jupyter\n",
    "from pyspark import SparkContext\n",
    "from pyspark.sql import SparkSession\n",
    "\n",
    "spark = SparkSession\\\n",
    "        .builder\\\n",
    "        .master('local[*]')\\\n",
    "        .getOrCreate()\n",
    "sc = spark.sparkContext"
   ]
  },
  {
   "cell_type": "code",
   "execution_count": 2,
   "metadata": {
    "id": "WnV7W9Duou5g"
   },
   "outputs": [
    {
     "name": "stdout",
     "output_type": "stream",
     "text": [
      "ParallelCollectionRDD[0] at readRDDFromFile at PythonRDD.scala:274\n"
     ]
    }
   ],
   "source": [
    "#parallelize crée un RDD à partir d'une liste Python pour exécuter des calculs en parallèle.\n",
    "data = sc.parallelize([1,2,3,4,5])\n",
    "print (data)"
   ]
  },
  {
   "cell_type": "code",
   "execution_count": 3,
   "metadata": {
    "colab": {
     "base_uri": "https://localhost:8080/"
    },
    "id": "kxvd6pTaou5i",
    "outputId": "76dd8445-fddf-4b3d-eccd-9145a7fc672b"
   },
   "outputs": [
    {
     "data": {
      "text/plain": [
       "[(1, 2), (3, 4), (3, 6), (3, 4)]"
      ]
     },
     "execution_count": 3,
     "metadata": {},
     "output_type": "execute_result"
    }
   ],
   "source": [
    "data = sc.parallelize([(1,2),(3,4),(3,6),(3,4)])\n",
    "#collect récupère tous les éléments d'un RDD et retourne une liste \n",
    "data.collect()"
   ]
  },
  {
   "cell_type": "code",
   "execution_count": 4,
   "metadata": {
    "colab": {
     "base_uri": "https://localhost:8080/"
    },
    "id": "ASiNj7Qsou5j",
    "outputId": "a2f9692f-2dc5-4453-ed0a-1aaae65f018b"
   },
   "outputs": [
    {
     "data": {
      "text/plain": [
       "pyspark.rdd.RDD"
      ]
     },
     "execution_count": 4,
     "metadata": {},
     "output_type": "execute_result"
    }
   ],
   "source": [
    "type(data)"
   ]
  },
  {
   "cell_type": "code",
   "execution_count": 5,
   "metadata": {
    "colab": {
     "base_uri": "https://localhost:8080/"
    },
    "id": "LvoCOBvrou5l",
    "outputId": "d58709b7-f62f-4fcd-d9d4-10a6076622ed"
   },
   "outputs": [
    {
     "data": {
      "text/plain": [
       "4"
      ]
     },
     "execution_count": 5,
     "metadata": {},
     "output_type": "execute_result"
    }
   ],
   "source": [
    "data.count()"
   ]
  },
  {
   "cell_type": "code",
   "execution_count": 6,
   "metadata": {
    "colab": {
     "base_uri": "https://localhost:8080/"
    },
    "id": "Co7Z6Uvgy5zn",
    "outputId": "164fcfc7-6fe4-4dc1-e2e1-94bab5ce32c1"
   },
   "outputs": [
    {
     "data": {
      "text/plain": [
       "5"
      ]
     },
     "execution_count": 6,
     "metadata": {},
     "output_type": "execute_result"
    }
   ],
   "source": [
    "num = sc.parallelize([5,5,4,3,2,9,2],5)\n",
    "#retourne le nombre de partitions\n",
    "num.getNumPartitions()\n",
    "\n"
   ]
  },
  {
   "cell_type": "code",
   "execution_count": 7,
   "metadata": {
    "colab": {
     "base_uri": "https://localhost:8080/"
    },
    "id": "8_FhygBAy5zo",
    "outputId": "4577f317-223e-40fe-c449-86c9c6a64124"
   },
   "outputs": [
    {
     "data": {
      "text/plain": [
       "[10, 10, 8, 6, 4, 18, 4]"
      ]
     },
     "execution_count": 7,
     "metadata": {},
     "output_type": "execute_result"
    }
   ],
   "source": [
    "#map applique une fonction à chaque élément d'un RDD et retourne un nouveau RDD transformé\n",
    "num.map(lambda a : a*2).collect()"
   ]
  },
  {
   "cell_type": "code",
   "execution_count": 8,
   "metadata": {
    "colab": {
     "base_uri": "https://localhost:8080/"
    },
    "id": "DXTpt6yYy5zp",
    "outputId": "3bc4d329-0b1d-4ea0-dca9-16c951bd4f07"
   },
   "outputs": [
    {
     "data": {
      "text/plain": [
       "[125, 125, 64, 27, 8, 729, 8]"
      ]
     },
     "execution_count": 8,
     "metadata": {},
     "output_type": "execute_result"
    }
   ],
   "source": [
    "num.map(lambda a : pow(a,3)).collect()#a*a"
   ]
  },
  {
   "cell_type": "code",
   "execution_count": 9,
   "metadata": {
    "id": "sML2bLBby5zq"
   },
   "outputs": [],
   "source": [
    "names = sc.parallelize([ \"Bills\", \"Mark\",\"Brain\",\"Mick\"])"
   ]
  },
  {
   "cell_type": "code",
   "execution_count": 10,
   "metadata": {
    "colab": {
     "base_uri": "https://localhost:8080/"
    },
    "id": "_E6nmUNoy5zr",
    "outputId": "6e179a37-747e-4752-ca76-1e97b73924ae"
   },
   "outputs": [
    {
     "data": {
      "text/plain": [
       "['Mr. Bills', 'Mr. Mark', 'Mr. Brain', 'Mr. Mick']"
      ]
     },
     "execution_count": 10,
     "metadata": {},
     "output_type": "execute_result"
    }
   ],
   "source": [
    "names.map(lambda a : \"Mr. \"+ a).collect()"
   ]
  },
  {
   "cell_type": "code",
   "execution_count": 12,
   "metadata": {},
   "outputs": [
    {
     "data": {
      "text/plain": [
       "[2, 3, 4]"
      ]
     },
     "execution_count": 12,
     "metadata": {},
     "output_type": "execute_result"
    }
   ],
   "source": [
    "rdd = sc.parallelize([ 2, 3,4])\n",
    "rdd.collect()"
   ]
  },
  {
   "cell_type": "code",
   "execution_count": 13,
   "metadata": {
    "colab": {
     "base_uri": "https://localhost:8080/"
    },
    "id": "60oHNCk5y5zv",
    "outputId": "f16cca2a-6699-49fa-c17a-be355c3274ef"
   },
   "outputs": [
    {
     "data": {
      "text/plain": [
       "[range(1, 2), range(1, 3), range(1, 4)]"
      ]
     },
     "execution_count": 13,
     "metadata": {},
     "output_type": "execute_result"
    }
   ],
   "source": [
    "rdd.map(lambda x: range(1, x)).collect()"
   ]
  },
  {
   "cell_type": "code",
   "execution_count": 14,
   "metadata": {},
   "outputs": [
    {
     "data": {
      "text/plain": [
       "[1, 1, 2, 1, 2, 3]"
      ]
     },
     "execution_count": 14,
     "metadata": {},
     "output_type": "execute_result"
    }
   ],
   "source": [
    "#elle la méme chose que map mais elle en plus aplatie les résultats en une seule liste\n",
    "rdd.flatMap(lambda x: range(1, x)).collect()"
   ]
  },
  {
   "cell_type": "code",
   "execution_count": 15,
   "metadata": {
    "id": "jOMqMLZwy5zw"
   },
   "outputs": [],
   "source": [
    "a = sc.parallelize([1,2,3])"
   ]
  },
  {
   "cell_type": "code",
   "execution_count": 16,
   "metadata": {
    "colab": {
     "base_uri": "https://localhost:8080/"
    },
    "id": "Afv-HX3Jy5zx",
    "outputId": "3c66d0ed-621b-4c0b-98b0-ebd77ae83c96"
   },
   "outputs": [
    {
     "data": {
      "text/plain": [
       "[(1, 10, 57), (2, 20, 57), (3, 30, 57)]"
      ]
     },
     "execution_count": 16,
     "metadata": {},
     "output_type": "execute_result"
    }
   ],
   "source": [
    "a.map(lambda x: (x,x*10,57)).collect()"
   ]
  },
  {
   "cell_type": "code",
   "execution_count": 17,
   "metadata": {},
   "outputs": [
    {
     "data": {
      "text/plain": [
       "[1, 10, 57, 2, 20, 57, 3, 30, 57]"
      ]
     },
     "execution_count": 17,
     "metadata": {},
     "output_type": "execute_result"
    }
   ],
   "source": [
    "a.flatMap(lambda x: (x,x*10,57)).collect()"
   ]
  },
  {
   "cell_type": "code",
   "execution_count": 18,
   "metadata": {
    "id": "u7C6Y6yC96IP"
   },
   "outputs": [
    {
     "data": {
      "text/plain": [
       "[(1, 10, 57), (2, 20, 57), (3, 30, 57)]"
      ]
     },
     "execution_count": 18,
     "metadata": {},
     "output_type": "execute_result"
    }
   ],
   "source": [
    "#remarquer la différence avec map\n",
    "a.map(lambda x: (x,x*10,57)).collect()"
   ]
  },
  {
   "cell_type": "code",
   "execution_count": 19,
   "metadata": {},
   "outputs": [
    {
     "name": "stdout",
     "output_type": "stream",
     "text": [
      "Résultat avec map: [2, 4, 6, 8, 10]\n"
     ]
    }
   ],
   "source": [
    "rdd = sc.parallelize([1, 2, 3, 4, 5])\n",
    "\n",
    "# Utilisation de map pour multiplier chaque élément par 2\n",
    "result_map = rdd.map(lambda x: x * 2).collect()\n",
    "\n",
    "print(\"Résultat avec map:\", result_map)"
   ]
  },
  {
   "cell_type": "code",
   "execution_count": 20,
   "metadata": {},
   "outputs": [
    {
     "name": "stdout",
     "output_type": "stream",
     "text": [
      "Résultat avec mapPartitions: [2, 4, 6, 8, 10]\n"
     ]
    }
   ],
   "source": [
    "#mapPartitions permet de prendre une fonction \"plus complexe que map\"\n",
    "# La fonction mapPartitions applique la transformation à chaque partition. \n",
    "#Elle permet de traiter les données par partitions entières plutôt qu'élément par élément,\n",
    "#ce qui peut être plus efficace si la transformation comporte\n",
    "# des opérations coûteuses à initialiser (comme la connexion à une base de données).\n",
    "def multiply_by_two(iterator):\n",
    "    return (x * 2 for x in iterator)\n",
    "#mapPartitions applique une fonction à chaque partition du RDD au lieu de chaque élément\n",
    "result_mapPartitions = rdd.mapPartitions(multiply_by_two).collect()\n",
    "\n",
    "print(\"Résultat avec mapPartitions:\", result_mapPartitions)"
   ]
  },
  {
   "cell_type": "code",
   "execution_count": 21,
   "metadata": {
    "id": "pEZH79g8y5zy",
    "outputId": "81a20035-59af-4517-bf7a-45876dbd9f34"
   },
   "outputs": [
    {
     "data": {
      "text/plain": [
       "[5, 5, 4, 3, 2, 9, 2]"
      ]
     },
     "execution_count": 21,
     "metadata": {},
     "output_type": "execute_result"
    }
   ],
   "source": [
    "num.collect()"
   ]
  },
  {
   "cell_type": "code",
   "execution_count": 22,
   "metadata": {
    "id": "0LQxyGnKy5zz",
    "outputId": "6558c75d-b0a8-496b-b1e2-91629a90de98"
   },
   "outputs": [
    {
     "data": {
      "text/plain": [
       "[4]"
      ]
     },
     "execution_count": 22,
     "metadata": {},
     "output_type": "execute_result"
    }
   ],
   "source": [
    "#filter sélectionne les éléments qui respectent la condition donnée\n",
    "num.filter(lambda x : x%3 == 1).collect()"
   ]
  },
  {
   "cell_type": "code",
   "execution_count": 23,
   "metadata": {
    "colab": {
     "base_uri": "https://localhost:8080/"
    },
    "id": "N1TGKD2Ly5z0",
    "outputId": "073e2890-27dc-43c0-8cd3-5696541cca07"
   },
   "outputs": [
    {
     "data": {
      "text/plain": [
       "['Bills', 'Mark', 'Brain', 'Mick']"
      ]
     },
     "execution_count": 23,
     "metadata": {},
     "output_type": "execute_result"
    }
   ],
   "source": [
    "names.collect()"
   ]
  },
  {
   "cell_type": "code",
   "execution_count": 24,
   "metadata": {
    "id": "xLJmUlbDy5z0",
    "outputId": "70ca1735-3cce-46e7-fe30-3afa1f607f23"
   },
   "outputs": [
    {
     "data": {
      "text/plain": [
       "['Mark', 'Brain']"
      ]
     },
     "execution_count": 24,
     "metadata": {},
     "output_type": "execute_result"
    }
   ],
   "source": [
    "names.filter(lambda x : \"a\" in x).collect()"
   ]
  },
  {
   "cell_type": "code",
   "execution_count": 25,
   "metadata": {},
   "outputs": [
    {
     "data": {
      "text/plain": [
       "['Bills', 'Brain', 'Mark', 'Mick']"
      ]
     },
     "execution_count": 25,
     "metadata": {},
     "output_type": "execute_result"
    }
   ],
   "source": [
    "#le tri ascendant \n",
    "names.sortBy(lambda x:x[0],1).collect()"
   ]
  },
  {
   "cell_type": "code",
   "execution_count": 26,
   "metadata": {},
   "outputs": [
    {
     "data": {
      "text/plain": [
       "['Mark', 'Mick', 'Bills', 'Brain']"
      ]
     },
     "execution_count": 26,
     "metadata": {},
     "output_type": "execute_result"
    }
   ],
   "source": [
    "#le tri descendant   \n",
    "names.sortBy(lambda x:x[0],0).collect()"
   ]
  },
  {
   "cell_type": "code",
   "execution_count": 27,
   "metadata": {
    "id": "npXyTYnDy5z2",
    "outputId": "04df9bc5-dc41-45b7-869b-2e1f378fe7a1"
   },
   "outputs": [
    {
     "data": {
      "text/plain": [
       "[5, 5, 4, 3, 2, 9, 2]"
      ]
     },
     "execution_count": 27,
     "metadata": {},
     "output_type": "execute_result"
    }
   ],
   "source": [
    "num.collect()"
   ]
  },
  {
   "cell_type": "code",
   "execution_count": 28,
   "metadata": {
    "id": "UGZTEgG9y5z2",
    "outputId": "ef3f9bfe-6771-40f8-959d-47db8912e75b"
   },
   "outputs": [
    {
     "data": {
      "text/plain": [
       "[1, 1, 7, 9, 4, 10, 15]"
      ]
     },
     "execution_count": 28,
     "metadata": {},
     "output_type": "execute_result"
    }
   ],
   "source": [
    "num2 = sc.parallelize([1,1,7,9,4,10,15])\n",
    "num2.collect()"
   ]
  },
  {
   "cell_type": "code",
   "execution_count": 29,
   "metadata": {
    "id": "RXzudMmBy5z3",
    "outputId": "37cb1183-3c69-43c6-c27f-117901e82ded"
   },
   "outputs": [
    {
     "data": {
      "text/plain": [
       "[1, 1, 7, 9, 4, 10, 15, 5, 5, 4, 3, 2, 9, 2]"
      ]
     },
     "execution_count": 29,
     "metadata": {},
     "output_type": "execute_result"
    }
   ],
   "source": [
    "#fait l'union de deux RDD\n",
    "num3=num2.union(num)\n",
    "num3.collect()"
   ]
  },
  {
   "cell_type": "code",
   "execution_count": 30,
   "metadata": {},
   "outputs": [
    {
     "data": {
      "text/plain": [
       "[15, 10, 9, 9, 7, 5, 5, 4, 4, 3, 2, 2, 1, 1]"
      ]
     },
     "execution_count": 30,
     "metadata": {},
     "output_type": "execute_result"
    }
   ],
   "source": [
    "num3.sortBy(lambda x:x,0).collect()"
   ]
  },
  {
   "cell_type": "code",
   "execution_count": 31,
   "metadata": {},
   "outputs": [
    {
     "data": {
      "text/plain": [
       "[7, 1, 15, 9, 2, 10, 3, 4, 5]"
      ]
     },
     "execution_count": 31,
     "metadata": {},
     "output_type": "execute_result"
    }
   ],
   "source": [
    "#élimine les redondonces dans une RDD\n",
    "num3.distinct().collect()"
   ]
  },
  {
   "cell_type": "code",
   "execution_count": 32,
   "metadata": {
    "id": "8ecInieyy5z3"
   },
   "outputs": [],
   "source": [
    "x = sc.parallelize([1,2,3], 2)\n",
    "y = sc.parallelize([3,4], 1)"
   ]
  },
  {
   "cell_type": "code",
   "execution_count": 33,
   "metadata": {
    "id": "3mDE7Bqay5z4",
    "outputId": "e8a10146-0ec1-4857-fc04-c77e87027591"
   },
   "outputs": [
    {
     "data": {
      "text/plain": [
       "[1, 2, 3, 3, 4]"
      ]
     },
     "execution_count": 33,
     "metadata": {},
     "output_type": "execute_result"
    }
   ],
   "source": [
    "z = x.union(y)\n",
    "z.collect()"
   ]
  },
  {
   "cell_type": "code",
   "execution_count": 34,
   "metadata": {
    "id": "lT5xWa7Sy5z6",
    "outputId": "b482ddf7-aa2e-4fff-a372-16c9bfdbed6b"
   },
   "outputs": [
    {
     "data": {
      "text/plain": [
       "[1, 2, 3, 4, 5, 6, 7, 8, 9, 10, 11, 12, 13, 14, 15, 16, 17, 18, 19]"
      ]
     },
     "execution_count": 34,
     "metadata": {},
     "output_type": "execute_result"
    }
   ],
   "source": [
    "parallel = sc.parallelize(range(1,20))\n",
    "parallel.collect()"
   ]
  },
  {
   "cell_type": "code",
   "execution_count": 35,
   "metadata": {
    "id": "5LPeJ11Gy5z6",
    "outputId": "7149e157-0574-4637-a98d-600468fe6cab"
   },
   "outputs": [
    {
     "data": {
      "text/plain": [
       "[1, 8, 16]"
      ]
     },
     "execution_count": 35,
     "metadata": {},
     "output_type": "execute_result"
    }
   ],
   "source": [
    "# sample: Return a random sample subset RDD of the input RDD\n",
    "# API: (withReplacement: Boolean, fraction: Double, seed: Long = Utils.random.nextLong): RDD[T]\n",
    "# Note This is not guaranteed to provide exactly the fraction specified of the total count of the given\n",
    "parallel.sample(True,.2,).collect()"
   ]
  },
  {
   "cell_type": "code",
   "execution_count": 36,
   "metadata": {
    "id": "akbzy9Yjy5z7",
    "outputId": "b05a2446-839b-4434-f053-32a921c9eab7"
   },
   "outputs": [
    {
     "data": {
      "text/plain": [
       "[6, 12, 14, 17]"
      ]
     },
     "execution_count": 36,
     "metadata": {},
     "output_type": "execute_result"
    }
   ],
   "source": [
    "parallel.sample(False,.2,seed=19).collect()"
   ]
  },
  {
   "cell_type": "code",
   "execution_count": 37,
   "metadata": {
    "id": "RfYUORkRy5z8",
    "outputId": "1d03fbe6-074f-4e2c-823a-7b3b13781bfe"
   },
   "outputs": [
    {
     "data": {
      "text/plain": [
       "[1, 5, 12, 13, 14]"
      ]
     },
     "execution_count": 37,
     "metadata": {},
     "output_type": "execute_result"
    }
   ],
   "source": [
    "parallel.sample(False,.2).collect()"
   ]
  },
  {
   "cell_type": "code",
   "execution_count": 38,
   "metadata": {
    "id": "Mw_7rIF5y5z8",
    "outputId": "0afb93cc-93ef-4bc0-9e66-61dac13f87dc"
   },
   "outputs": [
    {
     "data": {
      "text/plain": [
       "[6]"
      ]
     },
     "execution_count": 38,
     "metadata": {},
     "output_type": "execute_result"
    }
   ],
   "source": [
    "parallel.sample(True,.2).collect()"
   ]
  },
  {
   "cell_type": "code",
   "execution_count": 39,
   "metadata": {
    "id": "NTNcPiOcy5z9",
    "outputId": "8fd7e298-150f-4052-d713-af91f76b4c64"
   },
   "outputs": [
    {
     "data": {
      "text/plain": [
       "[4, 5, 17]"
      ]
     },
     "execution_count": 39,
     "metadata": {},
     "output_type": "execute_result"
    }
   ],
   "source": [
    "parallel.sample(False,.2,seed=23).collect()"
   ]
  },
  {
   "cell_type": "markdown",
   "metadata": {
    "id": "-nQcZZNay5z-"
   },
   "source": [
    "### Transformations larges"
   ]
  },
  {
   "cell_type": "code",
   "execution_count": 40,
   "metadata": {
    "id": "wEyNfPXry50B",
    "outputId": "c68809c4-b7b5-47f5-c4b0-b4a0339712e1"
   },
   "outputs": [
    {
     "data": {
      "text/plain": [
       "['Bills', 'Mark', 'Brain', 'Mick']"
      ]
     },
     "execution_count": 40,
     "metadata": {},
     "output_type": "execute_result"
    }
   ],
   "source": [
    "names.collect()"
   ]
  },
  {
   "cell_type": "code",
   "execution_count": 41,
   "metadata": {
    "id": "nvwtu7Qgy50C"
   },
   "outputs": [],
   "source": [
    "#groupBy regroupe les éléments d'un RDD selon une clé spécifiée\n",
    "names_gr = names.groupBy(lambda x : x[0]).collect()"
   ]
  },
  {
   "cell_type": "code",
   "execution_count": 42,
   "metadata": {
    "id": "lPiqbm2jy50C",
    "outputId": "4a239222-6bc8-43d2-8145-3feb48e3c365"
   },
   "outputs": [
    {
     "data": {
      "text/plain": [
       "[('B', <pyspark.resultiterable.ResultIterable at 0x7f98e8f42c80>),\n",
       " ('M', <pyspark.resultiterable.ResultIterable at 0x7f98e8d54190>)]"
      ]
     },
     "execution_count": 42,
     "metadata": {},
     "output_type": "execute_result"
    }
   ],
   "source": [
    "names_gr"
   ]
  },
  {
   "cell_type": "code",
   "execution_count": 43,
   "metadata": {
    "id": "DbVwIXAdy50D",
    "outputId": "6833ff54-3c07-4fb5-aba1-84a4ee9c3cd2"
   },
   "outputs": [
    {
     "name": "stdout",
     "output_type": "stream",
     "text": [
      "B ['Bills', 'Brain']\n",
      "M ['Mark', 'Mick']\n"
     ]
    }
   ],
   "source": [
    "for (k,v) in names_gr:\n",
    "    print(k,list(v)) "
   ]
  },
  {
   "cell_type": "code",
   "execution_count": 44,
   "metadata": {
    "id": "wNlkHTacy50D"
   },
   "outputs": [],
   "source": [
    "aa = sc.parallelize([1, 1, 2, 3, 5, 8])\n"
   ]
  },
  {
   "cell_type": "code",
   "execution_count": 45,
   "metadata": {
    "id": "oUxi9gyoy50E"
   },
   "outputs": [],
   "source": [
    "result = aa.groupBy(lambda x: x % 3).collect()"
   ]
  },
  {
   "cell_type": "code",
   "execution_count": 46,
   "metadata": {
    "id": "v02PXur6y50F",
    "outputId": "db17c8ac-fdcb-4309-89c2-b1db323e50fc"
   },
   "outputs": [
    {
     "data": {
      "text/plain": [
       "[(2, <pyspark.resultiterable.ResultIterable at 0x7f98e8d55150>),\n",
       " (0, <pyspark.resultiterable.ResultIterable at 0x7f98e8d27250>),\n",
       " (1, <pyspark.resultiterable.ResultIterable at 0x7f98e8d26770>)]"
      ]
     },
     "execution_count": 46,
     "metadata": {},
     "output_type": "execute_result"
    }
   ],
   "source": [
    "result"
   ]
  },
  {
   "cell_type": "code",
   "execution_count": 47,
   "metadata": {
    "id": "Bc5LP2BWy50F",
    "outputId": "a1820838-f672-4282-b1a1-5f487cdd4cc2"
   },
   "outputs": [
    {
     "name": "stdout",
     "output_type": "stream",
     "text": [
      "2 [2, 5, 8]\n",
      "0 [3]\n",
      "1 [1, 1]\n"
     ]
    }
   ],
   "source": [
    "for (k,v) in result:\n",
    "    print(k, list(v) )"
   ]
  },
  {
   "cell_type": "code",
   "execution_count": 48,
   "metadata": {
    "id": "dGqdK4_Fy50G",
    "outputId": "380bdd2c-6e9f-46e5-dd8b-3274989cb9d2"
   },
   "outputs": [
    {
     "data": {
      "text/plain": [
       "[5, 5, 4, 3, 2, 9, 2]"
      ]
     },
     "execution_count": 48,
     "metadata": {},
     "output_type": "execute_result"
    }
   ],
   "source": [
    "num.collect()"
   ]
  },
  {
   "cell_type": "code",
   "execution_count": 49,
   "metadata": {
    "id": "j_x92Ne0y50H",
    "outputId": "20a19af9-6b7e-45fd-8d5f-0b50368077dd"
   },
   "outputs": [
    {
     "data": {
      "text/plain": [
       "[1, 1, 7, 9, 4, 10, 15]"
      ]
     },
     "execution_count": 49,
     "metadata": {},
     "output_type": "execute_result"
    }
   ],
   "source": [
    "num2.collect()"
   ]
  },
  {
   "cell_type": "code",
   "execution_count": 50,
   "metadata": {
    "id": "vqhnUInXy50I",
    "outputId": "e154e9ed-d1bc-4c04-a513-7651380d8319"
   },
   "outputs": [
    {
     "data": {
      "text/plain": [
       "[9, 4]"
      ]
     },
     "execution_count": 50,
     "metadata": {},
     "output_type": "execute_result"
    }
   ],
   "source": [
    "#fait l'intersection de 2 RDD\n",
    "num.intersection(num2).collect()"
   ]
  },
  {
   "cell_type": "code",
   "execution_count": 51,
   "metadata": {
    "id": "N4-lf_S0y50I",
    "outputId": "86b00a12-43ca-4be6-b383-821dd32ad497"
   },
   "outputs": [
    {
     "data": {
      "text/plain": [
       "[9, 4]"
      ]
     },
     "execution_count": 51,
     "metadata": {},
     "output_type": "execute_result"
    }
   ],
   "source": [
    "num2.intersection(num).collect()"
   ]
  },
  {
   "cell_type": "code",
   "execution_count": 52,
   "metadata": {
    "id": "rbBAzT5Ty50J",
    "outputId": "04d20913-53f3-4d1d-90ca-49cf57e85015"
   },
   "outputs": [
    {
     "data": {
      "text/plain": [
       "[2, 2, 3, 5, 5]"
      ]
     },
     "execution_count": 52,
     "metadata": {},
     "output_type": "execute_result"
    }
   ],
   "source": [
    "#retourne l'union de 2 RDD en éliminant luers intersection\n",
    "num.subtract(num2).collect()"
   ]
  },
  {
   "cell_type": "code",
   "execution_count": 53,
   "metadata": {
    "id": "SzpHk0NLy50K",
    "outputId": "d0d69e80-23b7-4662-90ca-f06606ffa5e3"
   },
   "outputs": [
    {
     "data": {
      "text/plain": [
       "[7, 1, 1, 15, 10]"
      ]
     },
     "execution_count": 53,
     "metadata": {},
     "output_type": "execute_result"
    }
   ],
   "source": [
    "num2.subtract(num).collect() # equivalent de num2 privé de num"
   ]
  },
  {
   "cell_type": "code",
   "execution_count": 54,
   "metadata": {
    "id": "-vPMcJCNy50L",
    "outputId": "66d1c83b-123f-4d6d-9f2f-c09e475ac4e4"
   },
   "outputs": [
    {
     "data": {
      "text/plain": [
       "[5, 5, 4, 3, 2, 9, 2]"
      ]
     },
     "execution_count": 54,
     "metadata": {},
     "output_type": "execute_result"
    }
   ],
   "source": [
    "num.collect()"
   ]
  },
  {
   "cell_type": "code",
   "execution_count": 55,
   "metadata": {
    "id": "i6XB9LVdy50M",
    "outputId": "432f1282-adc6-4393-d5e3-85060069e431"
   },
   "outputs": [
    {
     "data": {
      "text/plain": [
       "[5, 2, 3, 4, 9]"
      ]
     },
     "execution_count": 55,
     "metadata": {},
     "output_type": "execute_result"
    }
   ],
   "source": [
    "num.distinct().collect()"
   ]
  },
  {
   "cell_type": "markdown",
   "metadata": {
    "id": "J5PUfI0gzi5c"
   },
   "source": [
    "## Transformation sur les paires (Key, Value)"
   ]
  },
  {
   "cell_type": "code",
   "execution_count": 56,
   "metadata": {
    "id": "viGOEtQzou5o",
    "outputId": "a03e16a0-28b4-40af-c789-b0b53ba82d87"
   },
   "outputs": [
    {
     "data": {
      "text/plain": [
       "[(1, 2), (3, 4), (3, 6), (3, 4)]"
      ]
     },
     "execution_count": 56,
     "metadata": {},
     "output_type": "execute_result"
    }
   ],
   "source": [
    "data. collect()"
   ]
  },
  {
   "cell_type": "code",
   "execution_count": 57,
   "metadata": {},
   "outputs": [
    {
     "data": {
      "text/plain": [
       "defaultdict(int, {(1, 2): 1, (3, 4): 2, (3, 6): 1})"
      ]
     },
     "execution_count": 57,
     "metadata": {},
     "output_type": "execute_result"
    }
   ],
   "source": [
    "#countByValue compte le nombre d'occurrences de chaque valeur dans un RDD\n",
    "data.countByValue() #pas que les clé valeur"
   ]
  },
  {
   "cell_type": "code",
   "execution_count": 58,
   "metadata": {},
   "outputs": [
    {
     "data": {
      "text/plain": [
       "4"
      ]
     },
     "execution_count": 58,
     "metadata": {},
     "output_type": "execute_result"
    }
   ],
   "source": [
    "data.count()"
   ]
  },
  {
   "cell_type": "code",
   "execution_count": 59,
   "metadata": {
    "id": "Jd2SuT2uou5q",
    "outputId": "07b9a3c6-81ac-4203-caee-0698c9c1990a"
   },
   "outputs": [
    {
     "data": {
      "text/plain": [
       "[(3, 'mike'), (2, 'john'), (3, 'rambo'), (4, 'bill'), (1, 'mike')]"
      ]
     },
     "execution_count": 59,
     "metadata": {},
     "output_type": "execute_result"
    }
   ],
   "source": [
    "dataStr = sc.parallelize([(3,'mike'),(2,'john'),(3,'rambo'),(4,'bill'),(1,'mike')])\n",
    "dataStr.collect()"
   ]
  },
  {
   "cell_type": "markdown",
   "metadata": {
    "id": "2PlqPWyfou5s",
    "outputId": "77608760-6d3a-4ea5-a3a5-9b06b89ea3b3"
   },
   "source": [
    "### dataStr.count()"
   ]
  },
  {
   "cell_type": "code",
   "execution_count": 60,
   "metadata": {
    "id": "GhXHbtdpou5v",
    "outputId": "eac03ab1-0a57-421a-9069-2c9c69dcb033"
   },
   "outputs": [
    {
     "data": {
      "text/plain": [
       "defaultdict(int,\n",
       "            {(3, 'mike'): 1,\n",
       "             (2, 'john'): 1,\n",
       "             (3, 'rambo'): 1,\n",
       "             (4, 'bill'): 1,\n",
       "             (1, 'mike'): 1})"
      ]
     },
     "execution_count": 60,
     "metadata": {},
     "output_type": "execute_result"
    }
   ],
   "source": [
    "dataStr.countByValue()"
   ]
  },
  {
   "cell_type": "code",
   "execution_count": 61,
   "metadata": {
    "id": "6AxR0E6Vou5x",
    "outputId": "3bdb78cd-8e53-46f9-cf6b-e18bc1cf8b2e"
   },
   "outputs": [
    {
     "data": {
      "text/plain": [
       "[(3, 6), (3, 4), (3, 4), (1, 2)]"
      ]
     },
     "execution_count": 61,
     "metadata": {},
     "output_type": "execute_result"
    }
   ],
   "source": [
    "#top renvoie les n premiers éléments d'un RDD\n",
    "data.top(4)"
   ]
  },
  {
   "cell_type": "code",
   "execution_count": 62,
   "metadata": {
    "id": "Bsa7uY5gou5z",
    "outputId": "ff1bc709-565b-41ae-c239-a6489d49f947"
   },
   "outputs": [],
   "source": [
    "data1= sc.parallelize([(1, 2), (3, 6), (3, 1), (2, 4)])"
   ]
  },
  {
   "cell_type": "code",
   "execution_count": 63,
   "metadata": {
    "id": "hsF8PpCZou50",
    "outputId": "9b794309-2257-4a49-9b86-47e76ddd67b3"
   },
   "outputs": [
    {
     "data": {
      "text/plain": [
       "[(1, 2), (2, 4), (3, 6), (3, 1)]"
      ]
     },
     "execution_count": 63,
     "metadata": {},
     "output_type": "execute_result"
    }
   ],
   "source": [
    "#sortByKey trie la RDD par la clé \n",
    "data1.sortByKey().collect()"
   ]
  },
  {
   "cell_type": "code",
   "execution_count": 64,
   "metadata": {
    "id": "uphSsByRou52",
    "outputId": "76b809a3-9e5d-4ed5-f5b3-e7f9e11c7fc0"
   },
   "outputs": [
    {
     "data": {
      "text/plain": [
       "[6, 1]"
      ]
     },
     "execution_count": 64,
     "metadata": {},
     "output_type": "execute_result"
    }
   ],
   "source": [
    "# lookup : Return all value associated with the given key.\n",
    "data1.lookup(3)"
   ]
  },
  {
   "cell_type": "code",
   "execution_count": 65,
   "metadata": {
    "id": "MEepEB3tou53",
    "outputId": "3ddfc364-3be9-4aaf-ef72-67f3d585347a"
   },
   "outputs": [
    {
     "data": {
      "text/plain": [
       "[1, 3, 3, 3]"
      ]
     },
     "execution_count": 65,
     "metadata": {},
     "output_type": "execute_result"
    }
   ],
   "source": [
    "#retoune une liste des clés\n",
    "data.keys().collect()"
   ]
  },
  {
   "cell_type": "code",
   "execution_count": 66,
   "metadata": {},
   "outputs": [
    {
     "data": {
      "text/plain": [
       "[1, 3, 3, 3]"
      ]
     },
     "execution_count": 66,
     "metadata": {},
     "output_type": "execute_result"
    }
   ],
   "source": [
    "data.map(lambda x:x[0]).collect()"
   ]
  },
  {
   "cell_type": "code",
   "execution_count": 67,
   "metadata": {
    "id": "CYw_-jaKou54",
    "outputId": "65b9c025-e407-4991-c946-74fc9011bd96"
   },
   "outputs": [
    {
     "data": {
      "text/plain": [
       "[2, 4, 6, 4]"
      ]
     },
     "execution_count": 67,
     "metadata": {},
     "output_type": "execute_result"
    }
   ],
   "source": [
    "#retoune une liste des valeurs\n",
    "data.values().collect()"
   ]
  },
  {
   "cell_type": "code",
   "execution_count": 68,
   "metadata": {},
   "outputs": [
    {
     "data": {
      "text/plain": [
       "[2, 4, 6, 4]"
      ]
     },
     "execution_count": 68,
     "metadata": {},
     "output_type": "execute_result"
    }
   ],
   "source": [
    "data.map(lambda x:x[1]).collect()"
   ]
  },
  {
   "cell_type": "code",
   "execution_count": 69,
   "metadata": {},
   "outputs": [
    {
     "data": {
      "text/plain": [
       "[(1, 2), (3, 4), (3, 6), (3, 4)]"
      ]
     },
     "execution_count": 69,
     "metadata": {},
     "output_type": "execute_result"
    }
   ],
   "source": [
    "data.collect()"
   ]
  },
  {
   "cell_type": "code",
   "execution_count": 70,
   "metadata": {
    "id": "YkCsQCgIou55",
    "outputId": "1ed584ec-33ba-4d47-f81e-d551c0c5d8a6"
   },
   "outputs": [
    {
     "data": {
      "text/plain": [
       "[(1, 4), (3, 16), (3, 36), (3, 16)]"
      ]
     },
     "execution_count": 70,
     "metadata": {},
     "output_type": "execute_result"
    }
   ],
   "source": [
    "#fait un map sur les valeurs\n",
    "data.mapValues(lambda a : a*a).collect()"
   ]
  },
  {
   "cell_type": "code",
   "execution_count": 71,
   "metadata": {
    "id": "cLbsH0xsou58",
    "outputId": "8303f909-768b-45d8-f2a5-b23b724de08d"
   },
   "outputs": [
    {
     "data": {
      "text/plain": [
       "[(1, 2), (3, 4), (3, 6), (3, 4)]"
      ]
     },
     "execution_count": 71,
     "metadata": {},
     "output_type": "execute_result"
    }
   ],
   "source": [
    "data.collect()"
   ]
  },
  {
   "cell_type": "code",
   "execution_count": 72,
   "metadata": {
    "id": "v9LKQhdTou59",
    "outputId": "f258990b-3ad9-4bb4-b4c7-c5e4c183a812"
   },
   "outputs": [
    {
     "data": {
      "text/plain": [
       "[(1, 2), (3, 14)]"
      ]
     },
     "execution_count": 72,
     "metadata": {},
     "output_type": "execute_result"
    }
   ],
   "source": [
    "#reduceByKey regroupe les éléments d'un RDD par clé et applique une fonction de réduction sur les valeurs d'une meme clé\n",
    "data.reduceByKey(lambda x, y : x+y).collect()"
   ]
  },
  {
   "cell_type": "code",
   "execution_count": 73,
   "metadata": {
    "id": "0J-vJwq7ou5-",
    "outputId": "3877ab67-e9f8-4147-c231-3a69979f4991"
   },
   "outputs": [
    {
     "data": {
      "text/plain": [
       "[(1, 2), (3, 6)]"
      ]
     },
     "execution_count": 73,
     "metadata": {},
     "output_type": "execute_result"
    }
   ],
   "source": [
    "data.reduceByKey(max).collect()"
   ]
  },
  {
   "cell_type": "code",
   "execution_count": 74,
   "metadata": {
    "id": "D327Z0Q3ou6A"
   },
   "outputs": [],
   "source": [
    "# groupBy: This transformation groups all the rows with the same key into a single row.\n",
    "result = data.groupByKey().collect()"
   ]
  },
  {
   "cell_type": "code",
   "execution_count": 75,
   "metadata": {
    "id": "sr14oZFUou6B",
    "outputId": "f6f9bd2b-31b3-4b7d-dfe9-93c4c491270f"
   },
   "outputs": [
    {
     "data": {
      "text/plain": [
       "[(1, <pyspark.resultiterable.ResultIterable at 0x7f98ea2b4d30>),\n",
       " (3, <pyspark.resultiterable.ResultIterable at 0x7f98e8d7dea0>)]"
      ]
     },
     "execution_count": 75,
     "metadata": {},
     "output_type": "execute_result"
    }
   ],
   "source": [
    "result"
   ]
  },
  {
   "cell_type": "code",
   "execution_count": 76,
   "metadata": {
    "id": "3tY4XjqGou6C",
    "outputId": "854fac06-c96b-486f-85cd-c828cbc5649d"
   },
   "outputs": [
    {
     "name": "stdout",
     "output_type": "stream",
     "text": [
      "1 [2]\n",
      "3 [4, 6, 4]\n"
     ]
    }
   ],
   "source": [
    "for (k,v) in result:\n",
    "    print(k, list(v))"
   ]
  },
  {
   "cell_type": "code",
   "execution_count": 77,
   "metadata": {
    "id": "F9r2cFP5ou6D"
   },
   "outputs": [],
   "source": [
    "aa = data.groupByKey().mapValues(sum)"
   ]
  },
  {
   "cell_type": "code",
   "execution_count": 78,
   "metadata": {
    "id": "V3oEmvu2ou6D",
    "outputId": "305fde5d-5321-43e8-cfa2-82ab095a2892"
   },
   "outputs": [
    {
     "data": {
      "text/plain": [
       "[(1, 2), (3, 14)]"
      ]
     },
     "execution_count": 78,
     "metadata": {},
     "output_type": "execute_result"
    }
   ],
   "source": [
    "aa.collect()"
   ]
  },
  {
   "cell_type": "code",
   "execution_count": 79,
   "metadata": {
    "id": "NEGhuuntou6E"
   },
   "outputs": [],
   "source": [
    "bb = data.groupByKey().mapValues(max)"
   ]
  },
  {
   "cell_type": "code",
   "execution_count": 80,
   "metadata": {
    "id": "uYC6f6meou6E",
    "outputId": "e34ec447-fa70-41d9-9eed-df54403736c4"
   },
   "outputs": [
    {
     "data": {
      "text/plain": [
       "[(1, 2), (3, 6)]"
      ]
     },
     "execution_count": 80,
     "metadata": {},
     "output_type": "execute_result"
    }
   ],
   "source": [
    "bb.collect()"
   ]
  },
  {
   "cell_type": "code",
   "execution_count": 81,
   "metadata": {
    "id": "bqUWvMNpou6F"
   },
   "outputs": [],
   "source": [
    "# reduceByKey\n",
    "# Functionality: reduceByKey combines values with the same key using a specified associative and commutative reduce function.\n",
    "# Efficiency: It performs better than groupByKey because it reduces data on the map side before shuffling it across the network, minimizing data transfer.\n",
    "# Use Case: Ideal for scenarios where you need to aggregate data, such as summing values, counting occurrences, or finding maximum/minimum values.\n",
    "# val rdd = sc.parallelize(Seq((\"a\", 1), (\"b\", 1), (\"a\", 1), (\"b\", 1)))\n",
    "# val reducedRDD = rdd.reduceByKey(_ + _)\n",
    "# // Result: [(\"a\", 2), (\"b\", 2)]\n",
    "\n",
    "# groupByKey followed by mapValues\n",
    "# Functionality: groupByKey groups all values with the same key into a single sequence, and mapValues applies a function to each value in the sequence.\n",
    "# Efficiency: Less efficient than reduceByKey because it shuffles all the data across the network, which can lead to higher memory usage and slower performance.\n",
    "# Use Case: Useful when you need to perform operations that require access to all values for a key, such as calculating statistics or applying complex transformations.\n",
    "# val rdd = sc.parallelize(Seq((\"a\", 1), (\"b\", 1), (\"a\", 1), (\"b\", 1)))\n",
    "# val groupedRDD = rdd.groupByKey()\n",
    "# val mappedRDD = groupedRDD.mapValues(values => values.sum)\n",
    "# // Result: [(\"a\", 2), (\"b\", 2)]\n",
    "\n",
    "# Key Differences\n",
    "# Performance: reduceByKey is generally more efficient due to pre-aggregation before the shuffle.\n",
    "# Memory Usage: groupByKey can lead to higher memory usage as it collects all values for a key before applying transformations.\n",
    "# Use Cases: Choose reduceByKey for simple aggregations and groupByKey followed by mapValues for more complex operations that require access to all values for a key."
   ]
  },
  {
   "cell_type": "code",
   "execution_count": 82,
   "metadata": {
    "id": "RrdprT7gou6F",
    "outputId": "a2bf29a7-5e00-42be-e2bd-366e3b061a63"
   },
   "outputs": [
    {
     "data": {
      "text/plain": [
       "[(1, 2), (3, 4), (3, 6), (3, 4)]"
      ]
     },
     "execution_count": 82,
     "metadata": {},
     "output_type": "execute_result"
    }
   ],
   "source": [
    "data.collect()"
   ]
  },
  {
   "cell_type": "code",
   "execution_count": 83,
   "metadata": {
    "id": "duToLu7Wou6G",
    "outputId": "23fc900d-2bf7-4a53-c603-c35579030584"
   },
   "outputs": [
    {
     "data": {
      "text/plain": [
       "[(1, 1),\n",
       " (3, 1),\n",
       " (3, 2),\n",
       " (3, 3),\n",
       " (3, 1),\n",
       " (3, 2),\n",
       " (3, 3),\n",
       " (3, 4),\n",
       " (3, 5),\n",
       " (3, 1),\n",
       " (3, 2),\n",
       " (3, 3)]"
      ]
     },
     "execution_count": 83,
     "metadata": {},
     "output_type": "execute_result"
    }
   ],
   "source": [
    "#flatMapValues applique flatMap sur les valeurs\n",
    "data.flatMapValues(lambda x: range(1, x)).collect()"
   ]
  },
  {
   "cell_type": "code",
   "execution_count": 84,
   "metadata": {
    "id": "aP1gnoFwou6G",
    "outputId": "149f7c97-4c1c-4bb6-ccd3-91ad3b2f7354"
   },
   "outputs": [
    {
     "data": {
      "text/plain": [
       "[(1, 2), (3, 4), (3, 6), (3, 4)]"
      ]
     },
     "execution_count": 84,
     "metadata": {},
     "output_type": "execute_result"
    }
   ],
   "source": [
    "data.collect()"
   ]
  },
  {
   "cell_type": "code",
   "execution_count": 85,
   "metadata": {
    "id": "206J8ZZpou6H",
    "outputId": "ce13514d-cf20-44b6-85b9-71b07cb177cd"
   },
   "outputs": [
    {
     "data": {
      "text/plain": [
       "[(3, 9)]"
      ]
     },
     "execution_count": 85,
     "metadata": {},
     "output_type": "execute_result"
    }
   ],
   "source": [
    "data2 = sc.parallelize([(3,9)])\n",
    "data2.collect()"
   ]
  },
  {
   "cell_type": "code",
   "execution_count": 86,
   "metadata": {
    "id": "c-uzCzIBou6H",
    "outputId": "b697b8cf-d927-4fc5-d700-96fc9e12238d"
   },
   "outputs": [
    {
     "data": {
      "text/plain": [
       "[(1, 2)]"
      ]
     },
     "execution_count": 86,
     "metadata": {},
     "output_type": "execute_result"
    }
   ],
   "source": [
    "#subtractByKey fait un substract sur les élements du meme clé\n",
    "data.subtractByKey(data2).collect()"
   ]
  },
  {
   "cell_type": "code",
   "execution_count": 87,
   "metadata": {
    "id": "6k1jGGjlou6I",
    "outputId": "881bfa0c-dcfe-43db-a4a3-0a61a4ce328b"
   },
   "outputs": [
    {
     "data": {
      "text/plain": [
       "[]"
      ]
     },
     "execution_count": 87,
     "metadata": {},
     "output_type": "execute_result"
    }
   ],
   "source": [
    "data2.subtractByKey(data).collect()"
   ]
  },
  {
   "cell_type": "markdown",
   "metadata": {
    "id": "-reFXs3zBfqf"
   },
   "source": [
    "## 5.Les actions"
   ]
  },
  {
   "cell_type": "markdown",
   "metadata": {
    "id": "GpmQcW4my43w"
   },
   "source": [
    "## Create RDD and their Basic Actions"
   ]
  },
  {
   "cell_type": "code",
   "execution_count": 88,
   "metadata": {
    "id": "l4WqaBa8y43w"
   },
   "outputs": [],
   "source": [
    "names = sc.parallelize(['Adam','Cray','Shaun','Brain','Mark','Christ','Shail','Satya','Mark','Norby','Frans','Mark','Bill'])"
   ]
  },
  {
   "cell_type": "code",
   "execution_count": 89,
   "metadata": {
    "id": "68MFuf1Ry43w",
    "outputId": "4f2f85f5-9ef0-4a6f-c7d6-f26926284ce3"
   },
   "outputs": [
    {
     "data": {
      "text/plain": [
       "pyspark.rdd.RDD"
      ]
     },
     "execution_count": 89,
     "metadata": {},
     "output_type": "execute_result"
    }
   ],
   "source": [
    "type(names)"
   ]
  },
  {
   "cell_type": "code",
   "execution_count": 90,
   "metadata": {
    "id": "TEaVs3O6y43x",
    "outputId": "9b62ce68-08b7-43de-e1d6-4f735df483f2"
   },
   "outputs": [
    {
     "data": {
      "text/plain": [
       "['Adam',\n",
       " 'Cray',\n",
       " 'Shaun',\n",
       " 'Brain',\n",
       " 'Mark',\n",
       " 'Christ',\n",
       " 'Shail',\n",
       " 'Satya',\n",
       " 'Mark',\n",
       " 'Norby',\n",
       " 'Frans',\n",
       " 'Mark',\n",
       " 'Bill']"
      ]
     },
     "execution_count": 90,
     "metadata": {},
     "output_type": "execute_result"
    }
   ],
   "source": [
    "names.collect()"
   ]
  },
  {
   "cell_type": "code",
   "execution_count": 91,
   "metadata": {
    "id": "nzrkVnmqy43y",
    "outputId": "1286b1ef-37e3-44c6-fbe1-4678d6bb0e36"
   },
   "outputs": [
    {
     "data": {
      "text/plain": [
       "pyspark.rdd.RDD"
      ]
     },
     "execution_count": 91,
     "metadata": {},
     "output_type": "execute_result"
    }
   ],
   "source": [
    "type(a)"
   ]
  },
  {
   "cell_type": "code",
   "execution_count": 92,
   "metadata": {
    "id": "OGtJMz1Jy43y",
    "outputId": "39e94ccc-3a6e-4bf9-fc20-d79bd4ca451e"
   },
   "outputs": [
    {
     "data": {
      "text/plain": [
       "defaultdict(int,\n",
       "            {'Adam': 1,\n",
       "             'Cray': 1,\n",
       "             'Shaun': 1,\n",
       "             'Brain': 1,\n",
       "             'Mark': 3,\n",
       "             'Christ': 1,\n",
       "             'Shail': 1,\n",
       "             'Satya': 1,\n",
       "             'Norby': 1,\n",
       "             'Frans': 1,\n",
       "             'Bill': 1})"
      ]
     },
     "execution_count": 92,
     "metadata": {},
     "output_type": "execute_result"
    }
   ],
   "source": [
    "#countByValue compte le nombre d'occurrences de chaque valeur dans un RDD\n",
    "names.countByValue()"
   ]
  },
  {
   "cell_type": "code",
   "execution_count": 93,
   "metadata": {
    "id": "TSvHU8oEy43z"
   },
   "outputs": [],
   "source": [
    "\n",
    "def f(x): print(x)\n",
    "a=sc.parallelize([1, 2, 3, 4, 5]).foreach(lambda x : print(x))"
   ]
  },
  {
   "cell_type": "code",
   "execution_count": 94,
   "metadata": {
    "id": "xYKfMOAhy430",
    "outputId": "b5847187-ea54-4929-a962-732aefedc402"
   },
   "outputs": [
    {
     "data": {
      "text/plain": [
       "NoneType"
      ]
     },
     "execution_count": 94,
     "metadata": {},
     "output_type": "execute_result"
    }
   ],
   "source": [
    "type(a)"
   ]
  },
  {
   "cell_type": "code",
   "execution_count": 95,
   "metadata": {
    "id": "TGXBu-vny431"
   },
   "outputs": [],
   "source": [
    "a=sc.parallelize([(1,2),(2,4)])"
   ]
  },
  {
   "cell_type": "code",
   "execution_count": 96,
   "metadata": {
    "id": "1McMaoe6y431"
   },
   "outputs": [
    {
     "data": {
      "text/plain": [
       "defaultdict(int, {(1, 2): 1, (2, 4): 1})"
      ]
     },
     "execution_count": 96,
     "metadata": {},
     "output_type": "execute_result"
    }
   ],
   "source": [
    "a.countByValue()"
   ]
  },
  {
   "cell_type": "code",
   "execution_count": 97,
   "metadata": {
    "id": "yfPxI4eHy431",
    "outputId": "6735770f-a26d-4b4d-ec55-5bb8d05906d0"
   },
   "outputs": [
    {
     "data": {
      "text/plain": [
       "['Adam',\n",
       " 'Cray',\n",
       " 'Shaun',\n",
       " 'Brain',\n",
       " 'Mark',\n",
       " 'Christ',\n",
       " 'Shail',\n",
       " 'Satya',\n",
       " 'Mark',\n",
       " 'Norby',\n",
       " 'Frans',\n",
       " 'Mark',\n",
       " 'Bill']"
      ]
     },
     "execution_count": 97,
     "metadata": {},
     "output_type": "execute_result"
    }
   ],
   "source": [
    "names.collect()"
   ]
  },
  {
   "cell_type": "code",
   "execution_count": 98,
   "metadata": {
    "id": "ecyAYHh_y432",
    "outputId": "82ab1678-942e-4a8e-e6e2-668db58939ea"
   },
   "outputs": [
    {
     "data": {
      "text/plain": [
       "['Adam', 'Cray', 'Shaun', 'Brain', 'Mark']"
      ]
     },
     "execution_count": 98,
     "metadata": {},
     "output_type": "execute_result"
    }
   ],
   "source": [
    "#take renvoie les n premiers éléments d'un RDD\n",
    "names.take(5)"
   ]
  },
  {
   "cell_type": "code",
   "execution_count": 99,
   "metadata": {
    "id": "E6kiL6vVy432"
   },
   "outputs": [],
   "source": [
    "#textFile charge un fichier texte chaque ligne étant un élément du RDD\n",
    "employees = sc.textFile(\"employee.txt\")"
   ]
  },
  {
   "cell_type": "code",
   "execution_count": 100,
   "metadata": {
    "id": "geNqKXZKy432",
    "outputId": "5d42f177-1e6d-4cbd-a344-4fa67625c5a7"
   },
   "outputs": [
    {
     "data": {
      "text/plain": [
       "pyspark.rdd.RDD"
      ]
     },
     "execution_count": 100,
     "metadata": {},
     "output_type": "execute_result"
    }
   ],
   "source": [
    "type(employees)"
   ]
  },
  {
   "cell_type": "code",
   "execution_count": 101,
   "metadata": {
    "id": "mKzEF55oy432",
    "outputId": "8ad8c743-3126-44df-ff96-ec49ca14d5a8"
   },
   "outputs": [
    {
     "data": {
      "text/plain": [
       "['Adam',\n",
       " 'Cray',\n",
       " 'Shaun',\n",
       " 'Brain',\n",
       " 'Mark',\n",
       " 'Christ',\n",
       " 'Shail',\n",
       " 'Satya',\n",
       " 'Mark',\n",
       " 'Norby',\n",
       " 'Frans',\n",
       " 'Mark',\n",
       " 'Bill']"
      ]
     },
     "execution_count": 101,
     "metadata": {},
     "output_type": "execute_result"
    }
   ],
   "source": [
    "employees.collect()"
   ]
  },
  {
   "cell_type": "code",
   "execution_count": 102,
   "metadata": {
    "id": "ve-_88Wey433",
    "outputId": "680e9239-bbb7-42a7-8d2e-f3a16128df87"
   },
   "outputs": [
    {
     "data": {
      "text/plain": [
       "'Adam'"
      ]
     },
     "execution_count": 102,
     "metadata": {},
     "output_type": "execute_result"
    }
   ],
   "source": [
    "employees.first()"
   ]
  },
  {
   "cell_type": "code",
   "execution_count": 103,
   "metadata": {
    "id": "WAhZ1moPy433",
    "outputId": "9b6bd9e3-c81a-48a6-9d0c-3b13e91666ae"
   },
   "outputs": [
    {
     "data": {
      "text/plain": [
       "13"
      ]
     },
     "execution_count": 103,
     "metadata": {},
     "output_type": "execute_result"
    }
   ],
   "source": [
    "employees.count()"
   ]
  },
  {
   "cell_type": "code",
   "execution_count": 104,
   "metadata": {
    "id": "OYTl2Z9Oy433",
    "outputId": "ffda4437-1a36-4552-a107-3c1ab4fff471"
   },
   "outputs": [
    {
     "data": {
      "text/plain": [
       "['Shaun', 'Shail', 'Satya', 'Norby', 'Mark']"
      ]
     },
     "execution_count": 104,
     "metadata": {},
     "output_type": "execute_result"
    }
   ],
   "source": [
    "employees.top(5)"
   ]
  },
  {
   "cell_type": "code",
   "execution_count": 105,
   "metadata": {
    "id": "2Lb9SDIHy434",
    "outputId": "8d854334-ee7f-4364-dcfc-0d4fdaaec909"
   },
   "outputs": [
    {
     "data": {
      "text/plain": [
       "['Shaun',\n",
       " 'Shail',\n",
       " 'Satya',\n",
       " 'Norby',\n",
       " 'Mark',\n",
       " 'Mark',\n",
       " 'Mark',\n",
       " 'Frans',\n",
       " 'Cray',\n",
       " 'Christ',\n",
       " 'Brain',\n",
       " 'Bill',\n",
       " 'Adam']"
      ]
     },
     "execution_count": 105,
     "metadata": {},
     "output_type": "execute_result"
    }
   ],
   "source": [
    "employees.top(19)"
   ]
  },
  {
   "cell_type": "code",
   "execution_count": 106,
   "metadata": {
    "id": "YJo4pyzky434",
    "outputId": "0450b24e-f299-4af7-df9a-2aac9d053d40"
   },
   "outputs": [
    {
     "data": {
      "text/plain": [
       "11"
      ]
     },
     "execution_count": 106,
     "metadata": {},
     "output_type": "execute_result"
    }
   ],
   "source": [
    "employees.distinct().count()"
   ]
  },
  {
   "cell_type": "markdown",
   "metadata": {
    "id": "oqPMkMEky434"
   },
   "source": [
    "## Autres exemples"
   ]
  },
  {
   "cell_type": "code",
   "execution_count": 107,
   "metadata": {
    "id": "nAzIsVsZy435",
    "outputId": "edbfcfc9-c6c9-4f35-cf4f-b1e97450351e"
   },
   "outputs": [
    {
     "data": {
      "text/plain": [
       "[5, 5, 4, 3, 2, 9, 2]"
      ]
     },
     "execution_count": 107,
     "metadata": {},
     "output_type": "execute_result"
    }
   ],
   "source": [
    "num = sc.parallelize([5,5,4,3,2,9,2],9)\n",
    "num.collect()"
   ]
  },
  {
   "cell_type": "code",
   "execution_count": 108,
   "metadata": {},
   "outputs": [
    {
     "data": {
      "text/plain": [
       "9"
      ]
     },
     "execution_count": 108,
     "metadata": {},
     "output_type": "execute_result"
    }
   ],
   "source": [
    "num.reduce(max)"
   ]
  },
  {
   "cell_type": "code",
   "execution_count": 109,
   "metadata": {},
   "outputs": [
    {
     "data": {
      "text/plain": [
       "30"
      ]
     },
     "execution_count": 109,
     "metadata": {},
     "output_type": "execute_result"
    }
   ],
   "source": [
    "from operator import add\n",
    "num.reduce(add)"
   ]
  },
  {
   "cell_type": "code",
   "execution_count": 110,
   "metadata": {
    "id": "X7uQgbw4y435",
    "outputId": "8e042463-fb37-4ca8-fead-e35ba82c6dc0"
   },
   "outputs": [
    {
     "data": {
      "text/plain": [
       "[5, 5, 4, 3]"
      ]
     },
     "execution_count": 110,
     "metadata": {},
     "output_type": "execute_result"
    }
   ],
   "source": [
    "num.take(4)"
   ]
  },
  {
   "cell_type": "code",
   "execution_count": 111,
   "metadata": {
    "id": "feEkkvAjy435",
    "outputId": "6e947d8f-b606-4b5b-f512-7a749446c232"
   },
   "outputs": [
    {
     "data": {
      "text/plain": [
       "defaultdict(int, {5: 2, 4: 1, 3: 1, 2: 2, 9: 1})"
      ]
     },
     "execution_count": 111,
     "metadata": {},
     "output_type": "execute_result"
    }
   ],
   "source": [
    "num.countByValue()"
   ]
  },
  {
   "cell_type": "code",
   "execution_count": 112,
   "metadata": {
    "id": "AbArK-Wsy436",
    "outputId": "56f8ba04-612b-4981-eeed-2261aef9156c"
   },
   "outputs": [
    {
     "data": {
      "text/plain": [
       "pyspark.rdd.RDD"
      ]
     },
     "execution_count": 112,
     "metadata": {},
     "output_type": "execute_result"
    }
   ],
   "source": [
    "type(num)"
   ]
  },
  {
   "cell_type": "code",
   "execution_count": 113,
   "metadata": {
    "id": "FOU5Yd3hy436"
   },
   "outputs": [],
   "source": [
    "#GLOM : RDD OF TUPLES"
   ]
  },
  {
   "cell_type": "code",
   "execution_count": 114,
   "metadata": {
    "id": "jK3Y5uJ4y436",
    "outputId": "7f4f4f0c-7e7e-4291-8bf7-3af6395607e5"
   },
   "outputs": [
    {
     "data": {
      "text/plain": [
       "[[], [5], [5], [4], [], [3], [2], [9], [2]]"
      ]
     },
     "execution_count": 114,
     "metadata": {},
     "output_type": "execute_result"
    }
   ],
   "source": [
    "#glom transforme chaque partition d'un RDD en une liste, regroupant les éléments d'une partition dans un seul élément RDD\n",
    "num.glom().collect()"
   ]
  },
  {
   "cell_type": "code",
   "execution_count": 115,
   "metadata": {
    "id": "LmDGduyuy436",
    "outputId": "1959427f-d222-4537-9b92-052f34b5615b"
   },
   "outputs": [
    {
     "data": {
      "text/plain": [
       "pyspark.rdd.PipelinedRDD"
      ]
     },
     "execution_count": 115,
     "metadata": {},
     "output_type": "execute_result"
    }
   ],
   "source": [
    "type(num.glom())"
   ]
  },
  {
   "cell_type": "code",
   "execution_count": 116,
   "metadata": {
    "id": "et1FZo8ey437",
    "outputId": "18885cec-03ef-42f9-a98f-74a9debd5232"
   },
   "outputs": [
    {
     "data": {
      "text/plain": [
       "9"
      ]
     },
     "execution_count": 116,
     "metadata": {},
     "output_type": "execute_result"
    }
   ],
   "source": [
    "num.max()"
   ]
  },
  {
   "cell_type": "code",
   "execution_count": 117,
   "metadata": {
    "id": "gtg57gn4y438",
    "outputId": "099b0ba3-c389-4c37-da64-5ce0ce22e48c"
   },
   "outputs": [
    {
     "data": {
      "text/plain": [
       "2"
      ]
     },
     "execution_count": 117,
     "metadata": {},
     "output_type": "execute_result"
    }
   ],
   "source": [
    "num.min()"
   ]
  },
  {
   "cell_type": "code",
   "execution_count": 118,
   "metadata": {
    "id": "W59hiJMzy439",
    "outputId": "126836ce-936a-4e77-f39c-7a4c3e1d4416"
   },
   "outputs": [
    {
     "data": {
      "text/plain": [
       "4.285714285714286"
      ]
     },
     "execution_count": 118,
     "metadata": {},
     "output_type": "execute_result"
    }
   ],
   "source": [
    "num.mean()"
   ]
  },
  {
   "cell_type": "code",
   "execution_count": 119,
   "metadata": {
    "id": "P47nIth8y43-",
    "outputId": "f97423e1-1a27-4335-8a3f-b7f40fa1268e"
   },
   "outputs": [
    {
     "data": {
      "text/plain": [
       "[5, 5, 4, 3, 2, 9, 2]"
      ]
     },
     "execution_count": 119,
     "metadata": {},
     "output_type": "execute_result"
    }
   ],
   "source": [
    "num.collect()"
   ]
  },
  {
   "cell_type": "code",
   "execution_count": 120,
   "metadata": {
    "id": "8fYx3dMNy43-",
    "outputId": "98594d51-269b-429b-f8ed-86ffba564404"
   },
   "outputs": [
    {
     "data": {
      "text/plain": [
       "30"
      ]
     },
     "execution_count": 120,
     "metadata": {},
     "output_type": "execute_result"
    }
   ],
   "source": [
    "num.reduce(lambda a,b: a+b)"
   ]
  },
  {
   "cell_type": "code",
   "execution_count": 121,
   "metadata": {
    "id": "peoFYUqxy43-",
    "outputId": "4260933e-1943-43e9-dd82-ccd39e5612ce"
   },
   "outputs": [
    {
     "data": {
      "text/plain": [
       "10800"
      ]
     },
     "execution_count": 121,
     "metadata": {},
     "output_type": "execute_result"
    }
   ],
   "source": [
    "num.reduce(lambda a,b: a*b)"
   ]
  },
  {
   "cell_type": "code",
   "execution_count": 122,
   "metadata": {
    "id": "yxRP9HcPy43-",
    "outputId": "f4723582-1d95-4fff-8c41-5a1f2e66c21a"
   },
   "outputs": [
    {
     "data": {
      "text/plain": [
       "9"
      ]
     },
     "execution_count": 122,
     "metadata": {},
     "output_type": "execute_result"
    }
   ],
   "source": [
    "num.reduce(lambda x,y: x if x > y else y)"
   ]
  },
  {
   "cell_type": "code",
   "execution_count": 123,
   "metadata": {
    "id": "0YrdHEV3y43_"
   },
   "outputs": [],
   "source": [
    "def myfun(a,b):\n",
    "    return a*2 + b*2"
   ]
  },
  {
   "cell_type": "code",
   "execution_count": 124,
   "metadata": {
    "id": "XNPW6WXBy43_",
    "outputId": "8e4b42d5-dd22-4826-c6ec-966ad5058fed"
   },
   "outputs": [
    {
     "data": {
      "text/plain": [
       "872"
      ]
     },
     "execution_count": 124,
     "metadata": {},
     "output_type": "execute_result"
    }
   ],
   "source": [
    "num.reduce(myfun)"
   ]
  },
  {
   "cell_type": "code",
   "execution_count": 125,
   "metadata": {
    "id": "87CuagJky43_",
    "outputId": "8f6855b1-0dd1-4fd2-cca5-d67a83cf6d98"
   },
   "outputs": [
    {
     "data": {
      "text/plain": [
       "[5, 5, 4, 3, 2, 9, 2]"
      ]
     },
     "execution_count": 125,
     "metadata": {},
     "output_type": "execute_result"
    }
   ],
   "source": [
    "num.collect()"
   ]
  },
  {
   "cell_type": "code",
   "execution_count": 126,
   "metadata": {
    "id": "5il0PQPgy43_",
    "outputId": "974da880-d92b-45f9-fa7a-1cd938b2d7bf"
   },
   "outputs": [
    {
     "data": {
      "text/plain": [
       "[2, 2, 3]"
      ]
     },
     "execution_count": 126,
     "metadata": {},
     "output_type": "execute_result"
    }
   ],
   "source": [
    "#takeOrdered renvoie les n premiers éléments d'un RDD triés\n",
    "num.takeOrdered(3)"
   ]
  },
  {
   "cell_type": "code",
   "execution_count": 127,
   "metadata": {
    "id": "DY_ettuDy43_"
   },
   "outputs": [],
   "source": [
    "# fold: the initial value for the accumulated result of each partition for the op operator,\n",
    "# and also the initial value for the combine results from different partitions"
   ]
  },
  {
   "cell_type": "code",
   "execution_count": 128,
   "metadata": {
    "id": "ZJLwJSmuy44A",
    "outputId": "00fa4e5c-d158-4e35-9c36-bce07d016726"
   },
   "outputs": [
    {
     "data": {
      "text/plain": [
       "[5, 5, 4, 3, 2, 9, 2]"
      ]
     },
     "execution_count": 128,
     "metadata": {},
     "output_type": "execute_result"
    }
   ],
   "source": [
    "num = sc.parallelize([5,5,4,3,2,9,2],2)\n",
    "num.collect()"
   ]
  },
  {
   "cell_type": "code",
   "execution_count": 129,
   "metadata": {
    "id": "x3x2SMx9y44A",
    "outputId": "2205396f-7eea-4712-c34a-d36726dabbe4"
   },
   "outputs": [
    {
     "data": {
      "text/plain": [
       "[[5, 5, 4], [3, 2, 9, 2]]"
      ]
     },
     "execution_count": 129,
     "metadata": {},
     "output_type": "execute_result"
    }
   ],
   "source": [
    "num.glom().collect()"
   ]
  },
  {
   "cell_type": "code",
   "execution_count": 130,
   "metadata": {
    "id": "_uEaHQpEy44A",
    "outputId": "14740bca-416d-43fa-9c9d-7319f4e03808"
   },
   "outputs": [
    {
     "data": {
      "text/plain": [
       "30"
      ]
     },
     "execution_count": 130,
     "metadata": {},
     "output_type": "execute_result"
    }
   ],
   "source": [
    "num.reduce(lambda a,b: a+b)"
   ]
  },
  {
   "cell_type": "code",
   "execution_count": 131,
   "metadata": {
    "id": "7Ve1ICRoy44B",
    "outputId": "e20dba0b-97d7-408f-c11f-b19803669a2d"
   },
   "outputs": [
    {
     "data": {
      "text/plain": [
       "10800"
      ]
     },
     "execution_count": 131,
     "metadata": {},
     "output_type": "execute_result"
    }
   ],
   "source": [
    "num.reduce(lambda a,b: a*b)"
   ]
  },
  {
   "cell_type": "code",
   "execution_count": 132,
   "metadata": {
    "id": "I_bJ65Ney44B",
    "outputId": "479f1f83-e72f-421e-ee59-43a9c4f3ac35"
   },
   "outputs": [
    {
     "data": {
      "text/plain": [
       "36"
      ]
     },
     "execution_count": 132,
     "metadata": {},
     "output_type": "execute_result"
    }
   ],
   "source": [
    "#fold combine les éléments d'un RDD avec une fonction et une valeur initiale, en appliquant l'opération de manière associative sur toutes les partitions\n",
    "num.fold(2,lambda a,b:a+b)"
   ]
  },
  {
   "cell_type": "code",
   "execution_count": 133,
   "metadata": {
    "id": "__XBczO8y44B",
    "outputId": "8a449c7a-3c18-4a18-9e78-61dc95e83ce7"
   },
   "outputs": [
    {
     "data": {
      "text/plain": [
       "86400"
      ]
     },
     "execution_count": 133,
     "metadata": {},
     "output_type": "execute_result"
    }
   ],
   "source": [
    "num.fold(2,lambda a,b : a*b )"
   ]
  },
  {
   "cell_type": "code",
   "execution_count": 134,
   "metadata": {
    "id": "P6LWtTYWy44B",
    "outputId": "f29486bd-2d5d-4caa-8031-9f355a45d742"
   },
   "outputs": [
    {
     "data": {
      "text/plain": [
       "18"
      ]
     },
     "execution_count": 134,
     "metadata": {},
     "output_type": "execute_result"
    }
   ],
   "source": [
    "from operator import add\n",
    "b=sc.parallelize([1, 2, 3, 4, 5])\n",
    "b.fold(1, add)\n"
   ]
  },
  {
   "cell_type": "code",
   "execution_count": 135,
   "metadata": {
    "id": "sHwrfIONy44C",
    "outputId": "be395c2f-a39f-42b3-fc91-fc18c921f80f"
   },
   "outputs": [
    {
     "data": {
      "text/plain": [
       "10800000"
      ]
     },
     "execution_count": 135,
     "metadata": {},
     "output_type": "execute_result"
    }
   ],
   "source": [
    "from operator import add,mul\n",
    "num3 = sc.parallelize([5,5,4,3,2,9,2]).fold(10,mul)\n",
    "num3"
   ]
  },
  {
   "cell_type": "code",
   "execution_count": 136,
   "metadata": {
    "id": "Rx5IfXsAy44C"
   },
   "outputs": [],
   "source": [
    "b = sc.parallelize(range(1,10))"
   ]
  },
  {
   "cell_type": "code",
   "execution_count": 137,
   "metadata": {
    "id": "tQLPcZiYy44C",
    "outputId": "c53a4a1f-70fd-4596-c776-9cd08e56da4d"
   },
   "outputs": [
    {
     "data": {
      "text/plain": [
       "[1, 2, 3, 4, 5, 6, 7, 8, 9]"
      ]
     },
     "execution_count": 137,
     "metadata": {},
     "output_type": "execute_result"
    }
   ],
   "source": [
    "b.collect()"
   ]
  },
  {
   "cell_type": "markdown",
   "metadata": {},
   "source": [
    "## Application: \n",
    "Donner l'implémentation de Word Count avec Spark"
   ]
  },
  {
   "cell_type": "code",
   "execution_count": 140,
   "metadata": {},
   "outputs": [
    {
     "name": "stdout",
     "output_type": "stream",
     "text": [
      "[('hadoop', 1), ('bonjour', 2), ('spark', 1)]\n"
     ]
    }
   ],
   "source": [
    "import re\n",
    "\n",
    "texte = sc.parallelize([\"bonjour Hadoop. Bonjour Spark!\"])\n",
    "def clean_and_split(text):\n",
    "    text = re.sub(r'[^\\w\\s]', '', text)\n",
    "    return text.lower().split()\n",
    "word_count = (texte.flatMap(clean_and_split)\n",
    "          .map(lambda x: (x, 1))\n",
    "          .reduceByKey(lambda a, b: a + b)\n",
    "          .collect())\n",
    "print(word_count)\n"
   ]
  }
 ],
 "metadata": {
  "colab": {
   "collapsed_sections": [
    "QpG9PlWwmpVc"
   ],
   "provenance": []
  },
  "kernelspec": {
   "display_name": "Python 3 (ipykernel)",
   "language": "python",
   "name": "python3"
  },
  "language_info": {
   "codemirror_mode": {
    "name": "ipython",
    "version": 3
   },
   "file_extension": ".py",
   "mimetype": "text/x-python",
   "name": "python",
   "nbconvert_exporter": "python",
   "pygments_lexer": "ipython3",
   "version": "3.10.16"
  }
 },
 "nbformat": 4,
 "nbformat_minor": 4
}
