{
 "cells": [
  {
   "cell_type": "code",
   "execution_count": 6,
   "id": "5280330c-8ed5-41b2-a370-3e61861a1871",
   "metadata": {},
   "outputs": [
    {
     "data": {
      "text/plain": [
       "['1::1193::5::978300760',\n",
       " '1::661::3::978302109',\n",
       " '1::914::3::978301968',\n",
       " '1::3408::4::978300275',\n",
       " '1::2355::5::978824291']"
      ]
     },
     "execution_count": 6,
     "metadata": {},
     "output_type": "execute_result"
    }
   ],
   "source": [
    "#commencer ici avec jupyter\n",
    "from pyspark import SparkContext\n",
    "from pyspark.sql import SparkSession\n",
    "\n",
    "spark = SparkSession\\\n",
    "        .builder\\\n",
    "        .master('local[*]')\\\n",
    "        .getOrCreate()\n",
    "sc = spark.sparkContext\n",
    "\n",
    "ratings=sc.textFile('movielens/ratings.dat')\n",
    "ratings.take(5)"
   ]
  },
  {
   "cell_type": "code",
   "execution_count": 7,
   "id": "0920d79f-f991-4fcf-9d24-9f30ae7ae751",
   "metadata": {},
   "outputs": [],
   "source": [
    "def parseRatings(row):\n",
    "    splitted = list(row.split('::'))\n",
    "    return (int(splitted[0]),int(splitted[1]),int(splitted[2]),splitted[3])"
   ]
  },
  {
   "cell_type": "code",
   "execution_count": 8,
   "id": "5be107e7-e8db-49f6-92b5-88e1ad25848d",
   "metadata": {},
   "outputs": [
    {
     "data": {
      "text/plain": [
       "[(1, 1193, 5, '978300760'),\n",
       " (1, 661, 3, '978302109'),\n",
       " (1, 914, 3, '978301968'),\n",
       " (1, 3408, 4, '978300275'),\n",
       " (1, 2355, 5, '978824291')]"
      ]
     },
     "execution_count": 8,
     "metadata": {},
     "output_type": "execute_result"
    }
   ],
   "source": [
    "ratings=ratings.map(parseRatings)\n",
    "ratings.take(5)"
   ]
  },
  {
   "cell_type": "code",
   "execution_count": 10,
   "id": "946ecbc5-2b5f-4094-9376-c05bbe7a092a",
   "metadata": {},
   "outputs": [
    {
     "data": {
      "text/plain": [
       "56174"
      ]
     },
     "execution_count": 10,
     "metadata": {},
     "output_type": "execute_result"
    }
   ],
   "source": [
    "ratings.filter(lambda x:x[2]==1).count()"
   ]
  },
  {
   "cell_type": "code",
   "execution_count": 12,
   "id": "6c884d4d-632d-472c-a3de-f544fd4bcc79",
   "metadata": {},
   "outputs": [
    {
     "data": {
      "text/plain": [
       "3706"
      ]
     },
     "execution_count": 12,
     "metadata": {},
     "output_type": "execute_result"
    }
   ],
   "source": [
    "ratings.map(lambda x:x[1]).distinct().count()"
   ]
  },
  {
   "cell_type": "code",
   "execution_count": 20,
   "id": "568439e5-b57c-461f-b8af-f7bb992d8d9b",
   "metadata": {},
   "outputs": [
    {
     "data": {
      "text/plain": [
       "(4169, 2314)"
      ]
     },
     "execution_count": 20,
     "metadata": {},
     "output_type": "execute_result"
    }
   ],
   "source": [
    "ratings.map(lambda x:(x[0],1)).reduceByKey(lambda x,y:x+y).max(lambda x:x[1])"
   ]
  },
  {
   "cell_type": "code",
   "execution_count": 30,
   "id": "100f81fa-fc57-40f1-8f20-24c2304c6cc8",
   "metadata": {},
   "outputs": [
    {
     "data": {
      "text/plain": [
       "[\"1::Toy Story (1995)::Animation|Children's|Comedy\",\n",
       " \"2::Jumanji (1995)::Adventure|Children's|Fantasy\",\n",
       " '3::Grumpier Old Men (1995)::Comedy|Romance',\n",
       " '4::Waiting to Exhale (1995)::Comedy|Drama',\n",
       " '5::Father of the Bride Part II (1995)::Comedy']"
      ]
     },
     "execution_count": 30,
     "metadata": {},
     "output_type": "execute_result"
    }
   ],
   "source": [
    "movies=sc.textFile('movielens/movies.dat')\n",
    "movies.take(5)"
   ]
  },
  {
   "cell_type": "code",
   "execution_count": 37,
   "id": "e45293cc-3efb-42d5-96c6-ed319e78164f",
   "metadata": {},
   "outputs": [
    {
     "data": {
      "text/plain": [
       "['1::F::1::10::48067',\n",
       " '2::M::56::16::70072',\n",
       " '3::M::25::15::55117',\n",
       " '4::M::45::7::02460',\n",
       " '5::M::25::20::55455']"
      ]
     },
     "execution_count": 37,
     "metadata": {},
     "output_type": "execute_result"
    }
   ],
   "source": [
    "users=sc.textFile('movielens/users.dat')\n",
    "users.take(5)"
   ]
  },
  {
   "cell_type": "code",
   "execution_count": 25,
   "id": "ec39b5e6-1909-4969-b0d2-b6998227a3fd",
   "metadata": {},
   "outputs": [],
   "source": [
    "def parseMovies(row):\n",
    "    splitted = list(row.split('::'))\n",
    "    return (int(splitted[0]),splitted[1],splitted[2])"
   ]
  },
  {
   "cell_type": "code",
   "execution_count": 31,
   "id": "f3947c90-2ac4-4299-b0b2-ca6819fba364",
   "metadata": {},
   "outputs": [
    {
     "data": {
      "text/plain": [
       "[(1, 'Toy Story (1995)', \"Animation|Children's|Comedy\"),\n",
       " (2, 'Jumanji (1995)', \"Adventure|Children's|Fantasy\"),\n",
       " (3, 'Grumpier Old Men (1995)', 'Comedy|Romance'),\n",
       " (4, 'Waiting to Exhale (1995)', 'Comedy|Drama'),\n",
       " (5, 'Father of the Bride Part II (1995)', 'Comedy')]"
      ]
     },
     "execution_count": 31,
     "metadata": {},
     "output_type": "execute_result"
    }
   ],
   "source": [
    "movies=movies.map(parseMovies)\n",
    "movies.take(5)"
   ]
  },
  {
   "cell_type": "code",
   "execution_count": 35,
   "id": "92d7f64b-d39e-4398-8b28-469eece5bec1",
   "metadata": {},
   "outputs": [],
   "source": [
    "def parseUsers(row):\n",
    "    splitted = list(row.split('::'))\n",
    "    return (int(splitted[0]),splitted[1],int(splitted[2]), splitted[3],splitted[4])"
   ]
  },
  {
   "cell_type": "code",
   "execution_count": 38,
   "id": "7105395e-e3d5-43ce-bd62-d179b38f0add",
   "metadata": {},
   "outputs": [
    {
     "data": {
      "text/plain": [
       "[(1, 'F', 1, '10', '48067'),\n",
       " (2, 'M', 56, '16', '70072'),\n",
       " (3, 'M', 25, '15', '55117'),\n",
       " (4, 'M', 45, '7', '02460'),\n",
       " (5, 'M', 25, '20', '55455')]"
      ]
     },
     "execution_count": 38,
     "metadata": {},
     "output_type": "execute_result"
    }
   ],
   "source": [
    "users=users.map(parseUsers)\n",
    "users.take(5)"
   ]
  },
  {
   "cell_type": "code",
   "execution_count": 41,
   "id": "1b946a19-ddcf-47b1-9191-f5cad8b70bf9",
   "metadata": {},
   "outputs": [
    {
     "data": {
      "text/plain": [
       "[(6039, 'F', 45, '0', '01060'),\n",
       " (6037, 'F', 45, '1', '76006'),\n",
       " (6036, 'F', 25, '15', '32603'),\n",
       " (6033, 'M', 50, '13', '78232'),\n",
       " (6028, 'M', 18, '4', '94133')]"
      ]
     },
     "execution_count": 41,
     "metadata": {},
     "output_type": "execute_result"
    }
   ],
   "source": [
    "users.sortBy(lambda x:x,0).distinct().take(5)"
   ]
  },
  {
   "cell_type": "code",
   "execution_count": 50,
   "id": "111bfec7-7d69-48db-a42e-e640e862c142",
   "metadata": {},
   "outputs": [
    {
     "data": {
      "text/plain": [
       "[(\"Children's\", 251),\n",
       " ('Fantasy', 68),\n",
       " ('Romance', 471),\n",
       " ('Drama', 1603),\n",
       " ('Action', 503)]"
      ]
     },
     "execution_count": 50,
     "metadata": {},
     "output_type": "execute_result"
    }
   ],
   "source": [
    "moviesGenres=movies.flatMap(lambda x:x[2].split('|')).map(lambda x:(x,1)).reduceByKey(lambda x,y:x+y)\n",
    "moviesGenres.take(5)"
   ]
  },
  {
   "cell_type": "code",
   "execution_count": null,
   "id": "f5afa94f-0a8e-4a79-b1e0-a9c8bd290675",
   "metadata": {},
   "outputs": [],
   "source": []
  }
 ],
 "metadata": {
  "kernelspec": {
   "display_name": "Python 3 (ipykernel)",
   "language": "python",
   "name": "python3"
  },
  "language_info": {
   "codemirror_mode": {
    "name": "ipython",
    "version": 3
   },
   "file_extension": ".py",
   "mimetype": "text/x-python",
   "name": "python",
   "nbconvert_exporter": "python",
   "pygments_lexer": "ipython3",
   "version": "3.10.16"
  }
 },
 "nbformat": 4,
 "nbformat_minor": 5
}
